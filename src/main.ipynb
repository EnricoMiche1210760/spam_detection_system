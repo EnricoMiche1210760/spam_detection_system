{
 "cells": [
  {
   "cell_type": "markdown",
   "metadata": {},
   "source": [
    "# SPAM DETECTION SYSTEM\n",
    "\n",
    "This project aims to build a spam detection system using Natural Language Processing (NLP) techniques in order to classify emails as spam or not spam based on the content of the email.\n",
    "The steps involved in this project are:\n",
    "1. Train a classifier to identify spam emails.\n",
    "2. Find out the principal topics of the spam emails.\n",
    "3. Compute the semantic similarity between the spam emails, to verify the etheroegeneity of the spam emails.\n",
    "4. Extract from non-spam emails the Organisations mentioned in the emails."
   ]
  },
  {
   "cell_type": "code",
   "execution_count": null,
   "metadata": {},
   "outputs": [],
   "source": [
    "import pandas as pd\n",
    "import numpy as np"
   ]
  },
  {
   "cell_type": "markdown",
   "metadata": {},
   "source": [
    "The dataset is available in data, and it is called `spam_dataset.csv`. It contains the following columns:"
   ]
  }
 ],
 "metadata": {
  "language_info": {
   "name": "python"
  }
 },
 "nbformat": 4,
 "nbformat_minor": 2
}
