{
 "cells": [
  {
   "cell_type": "markdown",
   "metadata": {},
   "source": [
    "# SPAM DETECTION SYSTEM\n",
    "\n",
    "This project aims to build a spam detection system using Natural Language Processing (NLP) techniques in order to classify emails as spam or not spam based on the content of the email.\n",
    "The steps involved in this project are:\n",
    "1. Train a classifier to identify spam emails.\n",
    "2. Find out the principal topics of the spam emails.\n",
    "3. Compute the semantic similarity between the spam emails, to verify the etheroegeneity of the spam emails.\n",
    "4. Extract from non-spam emails the Organisations mentioned in the emails."
   ]
  },
  {
   "cell_type": "code",
   "execution_count": 1,
   "metadata": {},
   "outputs": [
    {
     "name": "stderr",
     "output_type": "stream",
     "text": [
      "2024-07-08 21:26:27.406222: I tensorflow/core/util/port.cc:113] oneDNN custom operations are on. You may see slightly different numerical results due to floating-point round-off errors from different computation orders. To turn them off, set the environment variable `TF_ENABLE_ONEDNN_OPTS=0`.\n",
      "2024-07-08 21:26:27.407900: I external/local_tsl/tsl/cuda/cudart_stub.cc:31] Could not find cuda drivers on your machine, GPU will not be used.\n",
      "2024-07-08 21:26:27.432988: E external/local_xla/xla/stream_executor/cuda/cuda_dnn.cc:9261] Unable to register cuDNN factory: Attempting to register factory for plugin cuDNN when one has already been registered\n",
      "2024-07-08 21:26:27.433012: E external/local_xla/xla/stream_executor/cuda/cuda_fft.cc:607] Unable to register cuFFT factory: Attempting to register factory for plugin cuFFT when one has already been registered\n",
      "2024-07-08 21:26:27.433701: E external/local_xla/xla/stream_executor/cuda/cuda_blas.cc:1515] Unable to register cuBLAS factory: Attempting to register factory for plugin cuBLAS when one has already been registered\n",
      "2024-07-08 21:26:27.437953: I external/local_tsl/tsl/cuda/cudart_stub.cc:31] Could not find cuda drivers on your machine, GPU will not be used.\n",
      "2024-07-08 21:26:27.438428: I tensorflow/core/platform/cpu_feature_guard.cc:182] This TensorFlow binary is optimized to use available CPU instructions in performance-critical operations.\n",
      "To enable the following instructions: AVX2 AVX_VNNI FMA, in other operations, rebuild TensorFlow with the appropriate compiler flags.\n",
      "2024-07-08 21:26:28.123096: W tensorflow/compiler/tf2tensorrt/utils/py_utils.cc:38] TF-TRT Warning: Could not find TensorRT\n"
     ]
    }
   ],
   "source": [
    "import pandas as pd\n",
    "import numpy as np\n",
    "import models as md\n",
    "from IPython.core.interactiveshell import InteractiveShell\n",
    "InteractiveShell.ast_node_interactivity = \"all\"\n",
    "%config Completer.use_jedi=False"
   ]
  },
  {
   "cell_type": "markdown",
   "metadata": {},
   "source": [
    "The dataset is available in data, and it is called `spam_dataset.csv`. It contains the following columns:"
   ]
  },
  {
   "cell_type": "code",
   "execution_count": 2,
   "metadata": {},
   "outputs": [
    {
     "data": {
      "text/html": [
       "<div>\n",
       "<style scoped>\n",
       "    .dataframe tbody tr th:only-of-type {\n",
       "        vertical-align: middle;\n",
       "    }\n",
       "\n",
       "    .dataframe tbody tr th {\n",
       "        vertical-align: top;\n",
       "    }\n",
       "\n",
       "    .dataframe thead th {\n",
       "        text-align: right;\n",
       "    }\n",
       "</style>\n",
       "<table border=\"1\" class=\"dataframe\">\n",
       "  <thead>\n",
       "    <tr style=\"text-align: right;\">\n",
       "      <th></th>\n",
       "      <th>label</th>\n",
       "      <th>text</th>\n",
       "      <th>label_num</th>\n",
       "    </tr>\n",
       "  </thead>\n",
       "  <tbody>\n",
       "    <tr>\n",
       "      <th>605</th>\n",
       "      <td>ham</td>\n",
       "      <td>Subject: enron methanol ; meter # : 988291\\nth...</td>\n",
       "      <td>0</td>\n",
       "    </tr>\n",
       "    <tr>\n",
       "      <th>2349</th>\n",
       "      <td>ham</td>\n",
       "      <td>Subject: hpl nom for january 9 , 2001\\n( see a...</td>\n",
       "      <td>0</td>\n",
       "    </tr>\n",
       "    <tr>\n",
       "      <th>3624</th>\n",
       "      <td>ham</td>\n",
       "      <td>Subject: neon retreat\\nho ho ho , we ' re arou...</td>\n",
       "      <td>0</td>\n",
       "    </tr>\n",
       "    <tr>\n",
       "      <th>4685</th>\n",
       "      <td>spam</td>\n",
       "      <td>Subject: photoshop , windows , office . cheap ...</td>\n",
       "      <td>1</td>\n",
       "    </tr>\n",
       "    <tr>\n",
       "      <th>2030</th>\n",
       "      <td>ham</td>\n",
       "      <td>Subject: re : indian springs\\nthis deal is to ...</td>\n",
       "      <td>0</td>\n",
       "    </tr>\n",
       "  </tbody>\n",
       "</table>\n",
       "</div>"
      ],
      "text/plain": [
       "     label                                               text  label_num\n",
       "605    ham  Subject: enron methanol ; meter # : 988291\\nth...          0\n",
       "2349   ham  Subject: hpl nom for january 9 , 2001\\n( see a...          0\n",
       "3624   ham  Subject: neon retreat\\nho ho ho , we ' re arou...          0\n",
       "4685  spam  Subject: photoshop , windows , office . cheap ...          1\n",
       "2030   ham  Subject: re : indian springs\\nthis deal is to ...          0"
      ]
     },
     "execution_count": 2,
     "metadata": {},
     "output_type": "execute_result"
    },
    {
     "name": "stdout",
     "output_type": "stream",
     "text": [
      "------------------\n"
     ]
    },
    {
     "data": {
      "text/plain": [
       "(5171, 3)"
      ]
     },
     "execution_count": 2,
     "metadata": {},
     "output_type": "execute_result"
    },
    {
     "name": "stdout",
     "output_type": "stream",
     "text": [
      "------------------\n"
     ]
    },
    {
     "data": {
      "text/plain": [
       "label        0\n",
       "text         0\n",
       "label_num    0\n",
       "dtype: int64"
      ]
     },
     "execution_count": 2,
     "metadata": {},
     "output_type": "execute_result"
    },
    {
     "name": "stdout",
     "output_type": "stream",
     "text": [
      "------------------\n"
     ]
    },
    {
     "data": {
      "text/plain": [
       "\"Subject: enron methanol ; meter # : 988291\\nthis is a follow up to the note i gave you on monday , 4 / 3 / 00 { preliminary\\nflow data provided by daren } .\\nplease override pop ' s daily volume { presently zero } to reflect daily\\nactivity you can obtain from gas control .\\nthis change is needed asap for economics purposes .\""
      ]
     },
     "execution_count": 2,
     "metadata": {},
     "output_type": "execute_result"
    },
    {
     "name": "stdout",
     "output_type": "stream",
     "text": [
      "------------------\n"
     ]
    },
    {
     "data": {
      "text/plain": [
       "label\n",
       "ham     3672\n",
       "spam    1499\n",
       "Name: count, dtype: int64"
      ]
     },
     "execution_count": 2,
     "metadata": {},
     "output_type": "execute_result"
    }
   ],
   "source": [
    "spam_df = pd.read_csv('../data/spam_dataset.csv', index_col=0)\n",
    "spam_df.head(5)\n",
    "print('------------------')\n",
    "spam_df.shape\n",
    "print('------------------')\n",
    "spam_df.isnull().sum()\n",
    "print('------------------')\n",
    "spam_df['text'][605]\n",
    "print('------------------')\n",
    "spam_df.value_counts('label')"
   ]
  },
  {
   "cell_type": "code",
   "execution_count": 3,
   "metadata": {},
   "outputs": [
    {
     "data": {
      "text/html": [
       "<div>\n",
       "<style scoped>\n",
       "    .dataframe tbody tr th:only-of-type {\n",
       "        vertical-align: middle;\n",
       "    }\n",
       "\n",
       "    .dataframe tbody tr th {\n",
       "        vertical-align: top;\n",
       "    }\n",
       "\n",
       "    .dataframe thead th {\n",
       "        text-align: right;\n",
       "    }\n",
       "</style>\n",
       "<table border=\"1\" class=\"dataframe\">\n",
       "  <thead>\n",
       "    <tr style=\"text-align: right;\">\n",
       "      <th></th>\n",
       "      <th>label</th>\n",
       "      <th>text</th>\n",
       "      <th>label_num</th>\n",
       "    </tr>\n",
       "  </thead>\n",
       "  <tbody>\n",
       "    <tr>\n",
       "      <th>0</th>\n",
       "      <td>ham</td>\n",
       "      <td>Subject: enron methanol ; meter # : 988291\\nth...</td>\n",
       "      <td>0</td>\n",
       "    </tr>\n",
       "    <tr>\n",
       "      <th>1</th>\n",
       "      <td>ham</td>\n",
       "      <td>Subject: hpl nom for january 9 , 2001\\n( see a...</td>\n",
       "      <td>0</td>\n",
       "    </tr>\n",
       "    <tr>\n",
       "      <th>2</th>\n",
       "      <td>ham</td>\n",
       "      <td>Subject: neon retreat\\nho ho ho , we ' re arou...</td>\n",
       "      <td>0</td>\n",
       "    </tr>\n",
       "  </tbody>\n",
       "</table>\n",
       "</div>"
      ],
      "text/plain": [
       "  label                                               text  label_num\n",
       "0   ham  Subject: enron methanol ; meter # : 988291\\nth...          0\n",
       "1   ham  Subject: hpl nom for january 9 , 2001\\n( see a...          0\n",
       "2   ham  Subject: neon retreat\\nho ho ho , we ' re arou...          0"
      ]
     },
     "execution_count": 3,
     "metadata": {},
     "output_type": "execute_result"
    }
   ],
   "source": [
    "spam_df.reset_index(drop=True, inplace=True)\n",
    "spam_df.head(3)"
   ]
  },
  {
   "cell_type": "code",
   "execution_count": 4,
   "metadata": {},
   "outputs": [],
   "source": [
    "import nltk\n",
    "import spacy\n",
    "import os\n",
    "\n",
    "try:\n",
    "    nlp = spacy.load('en_core_web_sm')\n",
    "except:\n",
    "    os.system('python -m spacy download en_core_web_sm')\n",
    "    nlp = spacy.load('en_core_web_sm')\n",
    "try:\n",
    "    eng_stopwords = nltk.corpus.stopwords.words('english')\n",
    "except:\n",
    "    nltk.download('stopwords')\n",
    "    eng_stopwords = nltk.corpus.stopwords.words('english')\n",
    "try:\n",
    "    _ = nltk.tokenize.word_tokenize('test')\n",
    "except:\n",
    "    nltk.download('punkt')\n"
   ]
  },
  {
   "cell_type": "code",
   "execution_count": 5,
   "metadata": {},
   "outputs": [
    {
     "data": {
      "text/plain": [
       "949"
      ]
     },
     "execution_count": 5,
     "metadata": {},
     "output_type": "execute_result"
    }
   ],
   "source": [
    "np.argmax([len(spam_df['text'][i]) for i in range(spam_df.shape[0])])"
   ]
  },
  {
   "cell_type": "code",
   "execution_count": 6,
   "metadata": {},
   "outputs": [],
   "source": [
    "emails = spam_df['text'].values"
   ]
  },
  {
   "cell_type": "code",
   "execution_count": 7,
   "metadata": {},
   "outputs": [],
   "source": [
    "def preprocess_text_and_store(text, doc_store=None, store=False):\n",
    "    preprocessed_text = np.empty(len(text), dtype=object)\n",
    "    if doc_store is None or doc_store not in os.listdir('../data'):\n",
    "        counter = 0\n",
    "        for i in range(len(text)):\n",
    "            process_words = []\n",
    "            text[i] = text[i].replace('\\d', ' ')\n",
    "            for word in nltk.word_tokenize(nlp(text[i].lower()).text):\n",
    "                if word.isalpha() and word not in eng_stopwords and len(str(word)):# >= 3:\n",
    "                    process_words.append(word)\n",
    "            preprocessed_text[counter] = ' '.join(process_words)\n",
    "            counter += 1\n",
    "    else:\n",
    "        preprocessed_text = np.array(pd.read_csv('../data/'+doc_store)['comment_text'])\n",
    "    if store:\n",
    "        pd.DataFrame(data = {\"comment_text\":preprocessed_text}).to_csv('../data/'+doc_store)\n",
    "\n",
    "    return preprocessed_text"
   ]
  },
  {
   "cell_type": "code",
   "execution_count": 8,
   "metadata": {},
   "outputs": [],
   "source": [
    "preprocessed_text= preprocess_text_and_store(emails, doc_store=\"preprocessed_spam_df.csv\", store=True)"
   ]
  },
  {
   "cell_type": "code",
   "execution_count": 9,
   "metadata": {},
   "outputs": [
    {
     "data": {
      "text/plain": [
       "['subject dobmeos hgh energy level gone stukm introducing doctor formulated hgh human growth hormone also called hgh referred medical science master hormone plentiful young near age twenty one bodies begin produce less time forty nearly everyone deficient hgh eighty production normally diminished least advantages hgh increased muscle strength loss body fat increased bone density lower blood pressure quickens wound healing reduces cellulite improved vision wrinkle disappearance increased skin thickness texture increased energy levels improved sleep emotional stability improved memory mental alertness increased sexual potency resistance common illness strengthened heart muscle controlled cholesterol controlled mood swings new hair growth color restore read website unsubscribe',\n",
       " 'subject',\n",
       " 'subject enron actuals dec dec teco tap enron hpl gas daily lsp hpl katy c enron']"
      ]
     },
     "execution_count": 9,
     "metadata": {},
     "output_type": "execute_result"
    },
    {
     "data": {
      "text/plain": [
       "array([1, 1, 0])"
      ]
     },
     "execution_count": 9,
     "metadata": {},
     "output_type": "execute_result"
    }
   ],
   "source": [
    "from sklearn.model_selection import train_test_split\n",
    "\n",
    "def train_test_val_split(data, labels=None, test_size=0.2, val_size=0.1, random_state=42):\n",
    "    if labels is None:\n",
    "        data, labels = data\n",
    "    corpus, X_test, train_labels, y_test = train_test_split(data, labels, test_size=test_size, random_state=random_state)\n",
    "    X_train, X_val, y_train, y_val = train_test_split(corpus, train_labels, test_size=val_size/(1-test_size), random_state=random_state)\n",
    "    y_train = np.array(y_train)\n",
    "    y_test = np.array(y_test)\n",
    "    y_val = np.array(y_val)\n",
    "\n",
    "    return X_train.astype(str).tolist(), X_test.astype(str).tolist(), X_val.astype(str).tolist(), y_train, y_test, y_val\n",
    "\n",
    "X_train, X_test, X_val, y_train, y_test, y_val = train_test_val_split(preprocessed_text, labels=spam_df['label_num'], test_size=0.2, val_size=0.15)\n",
    "\n",
    "\n",
    "X_train[0:3]\n",
    "y_train[0:3]"
   ]
  },
  {
   "cell_type": "code",
   "execution_count": 10,
   "metadata": {},
   "outputs": [
    {
     "data": {
      "text/plain": [
       "OrderedDict([('subject', 5154),\n",
       "             ('dobmeos', 1),\n",
       "             ('hgh', 10),\n",
       "             ('energy', 498),\n",
       "             ('level', 63),\n",
       "             ('gone', 23),\n",
       "             ('stukm', 1),\n",
       "             ('introducing', 8),\n",
       "             ('doctor', 47),\n",
       "             ('formulated', 4),\n",
       "             ('human', 18),\n",
       "             ('growth', 77),\n",
       "             ('hormone', 7),\n",
       "             ('also', 484),\n",
       "             ('called', 112),\n",
       "             ('referred', 5),\n",
       "             ('medical', 53),\n",
       "             ('science', 8),\n",
       "             ('master', 25),\n",
       "             ('plentiful', 1),\n",
       "             ('young', 161),\n",
       "             ('near', 46),\n",
       "             ('age', 48),\n",
       "             ('twenty', 15),\n",
       "             ('one', 576),\n",
       "             ('bodies', 5),\n",
       "             ('begin', 67),\n",
       "             ('produce', 12),\n",
       "             ('less', 225),\n",
       "             ('time', 628),\n",
       "             ('forty', 8),\n",
       "             ('nearly', 14),\n",
       "             ('everyone', 95),\n",
       "             ('deficient', 1),\n",
       "             ('eighty', 3),\n",
       "             ('production', 419),\n",
       "             ('normally', 21),\n",
       "             ('diminished', 1),\n",
       "             ('least', 45),\n",
       "             ('advantages', 11),\n",
       "             ('increased', 36),\n",
       "             ('muscle', 29),\n",
       "             ('strength', 11),\n",
       "             ('loss', 101),\n",
       "             ('body', 51),\n",
       "             ('fat', 34),\n",
       "             ('bone', 8),\n",
       "             ('density', 2),\n",
       "             ('lower', 33),\n",
       "             ('blood', 17),\n",
       "             ('pressure', 25),\n",
       "             ('quickens', 1),\n",
       "             ('wound', 3),\n",
       "             ('healing', 7),\n",
       "             ('reduces', 4),\n",
       "             ('cellulite', 3),\n",
       "             ('improved', 19),\n",
       "             ('vision', 9),\n",
       "             ('wrinkle', 2),\n",
       "             ('disappearance', 1),\n",
       "             ('skin', 15),\n",
       "             ('thickness', 1),\n",
       "             ('texture', 1),\n",
       "             ('levels', 25),\n",
       "             ('sleep', 16),\n",
       "             ('emotional', 3),\n",
       "             ('stability', 5),\n",
       "             ('memory', 19),\n",
       "             ('mental', 6),\n",
       "             ('alertness', 1),\n",
       "             ('sexual', 36),\n",
       "             ('potency', 3),\n",
       "             ('resistance', 1),\n",
       "             ('common', 41),\n",
       "             ('illness', 1),\n",
       "             ('strengthened', 2),\n",
       "             ('heart', 21),\n",
       "             ('controlled', 10),\n",
       "             ('cholesterol', 12),\n",
       "             ('mood', 1),\n",
       "             ('swings', 9),\n",
       "             ('new', 879),\n",
       "             ('hair', 23),\n",
       "             ('color', 73),\n",
       "             ('restore', 7),\n",
       "             ('read', 124),\n",
       "             ('website', 101),\n",
       "             ('unsubscribe', 90),\n",
       "             ('enron', 4099),\n",
       "             ('actuals', 223),\n",
       "             ('dec', 148),\n",
       "             ('teco', 260),\n",
       "             ('tap', 226),\n",
       "             ('hpl', 1475),\n",
       "             ('gas', 1845),\n",
       "             ('daily', 391),\n",
       "             ('lsp', 65),\n",
       "             ('katy', 93),\n",
       "             ('c', 424),\n",
       "             ('st', 149),\n",
       "             ('changes', 309),\n",
       "             ('forwarded', 817),\n",
       "             ('ami', 270),\n",
       "             ('chokshi', 207),\n",
       "             ('corp', 1128),\n",
       "             ('troy', 38),\n",
       "             ('benoit', 24),\n",
       "             ('reliantenergy', 51),\n",
       "             ('com', 2689),\n",
       "             ('cc', 1497),\n",
       "             ('see', 698),\n",
       "             ('attached', 677),\n",
       "             ('file', 417),\n",
       "             ('egmnom', 36),\n",
       "             ('jan', 159),\n",
       "             ('xls', 625),\n",
       "             ('live', 33),\n",
       "             ('large', 73),\n",
       "             ('rolex', 54),\n",
       "             ('replicas', 18),\n",
       "             ('online', 232),\n",
       "             ('get', 837),\n",
       "             ('finest', 2),\n",
       "             ('watch', 73),\n",
       "             ('replica', 17),\n",
       "             ('sell', 121),\n",
       "             ('premium', 27),\n",
       "             ('watches', 18),\n",
       "             ('battery', 10),\n",
       "             ('like', 424),\n",
       "             ('real', 80),\n",
       "             ('ones', 27),\n",
       "             ('since', 161),\n",
       "             ('charge', 76),\n",
       "             ('move', 99),\n",
       "             ('second', 87),\n",
       "             ('hand', 16),\n",
       "             ('moves', 17),\n",
       "             ('original', 334),\n",
       "             ('stores', 15),\n",
       "             ('thousands', 25),\n",
       "             ('dollars', 99),\n",
       "             ('much', 168),\n",
       "             ('replicated', 2),\n",
       "             ('smallest', 2),\n",
       "             ('detail', 22),\n",
       "             ('perfectly', 5),\n",
       "             ('accurate', 21),\n",
       "             ('markings', 2),\n",
       "             ('signature', 16),\n",
       "             ('green', 52),\n",
       "             ('sticker', 5),\n",
       "             ('w', 270),\n",
       "             ('serial', 24),\n",
       "             ('number', 357),\n",
       "             ('back', 390),\n",
       "             ('magnified', 1),\n",
       "             ('quickset', 1),\n",
       "             ('date', 233),\n",
       "             ('includes', 54),\n",
       "             ('proper', 25),\n",
       "             ('seethe', 1),\n",
       "             ('selection', 21),\n",
       "             ('carry', 23),\n",
       "             ('top', 133),\n",
       "             ('quality', 101),\n",
       "             ('louis', 28),\n",
       "             ('vuitton', 8),\n",
       "             ('handbags', 2),\n",
       "             ('stop', 130),\n",
       "             ('enter', 81),\n",
       "             ('address', 211),\n",
       "             ('dine', 2),\n",
       "             ('great', 164),\n",
       "             ('restaurants', 2),\n",
       "             ('mailing', 35),\n",
       "             ('list', 349),\n",
       "             ('click', 280),\n",
       "             ('send', 240),\n",
       "             ('blank', 26),\n",
       "             ('message', 588),\n",
       "             ('r', 305),\n",
       "             ('esalesl', 2),\n",
       "             ('f', 263),\n",
       "             ('b', 468),\n",
       "             ('e', 1251),\n",
       "             ('iit', 36),\n",
       "             ('demokritos', 36),\n",
       "             ('gr', 41),\n",
       "             ('paliourg', 87),\n",
       "             ('moosq', 4),\n",
       "             ('offer', 153),\n",
       "             ('sent', 485),\n",
       "             ('optinrealbig', 6),\n",
       "             ('llc', 46),\n",
       "             ('th', 563),\n",
       "             ('ave', 11),\n",
       "             ('suite', 115),\n",
       "             ('westminster', 7),\n",
       "             ('co', 188),\n",
       "             ('vacation', 49),\n",
       "             ('scheduled', 128),\n",
       "             ('friday', 231),\n",
       "             ('march', 324),\n",
       "             ('maybe', 36),\n",
       "             ('absence', 13),\n",
       "             ('please', 2097),\n",
       "             ('call', 479),\n",
       "             ('jackie', 255),\n",
       "             ('susan', 207),\n",
       "             ('industrial', 75),\n",
       "             ('activity', 181),\n",
       "             ('overpaying', 3),\n",
       "             ('via', 149),\n",
       "             ('gra', 30),\n",
       "             ('little', 98),\n",
       "             ('known', 35),\n",
       "             ('pharmacy', 54),\n",
       "             ('site', 154),\n",
       "             ('becoming', 6),\n",
       "             ('popular', 37),\n",
       "             ('destinations', 3),\n",
       "             ('cost', 110),\n",
       "             ('conscious', 3),\n",
       "             ('consumers', 24),\n",
       "             ('significant', 24),\n",
       "             ('savings', 61),\n",
       "             ('mouse', 12),\n",
       "             ('away', 60),\n",
       "             ('ordering', 27),\n",
       "             ('process', 219),\n",
       "             ('completely', 21),\n",
       "             ('electronic', 31),\n",
       "             ('talk', 75),\n",
       "             ('sincerely', 47),\n",
       "             ('dollie', 1),\n",
       "             ('mazurek', 1),\n",
       "             ('order', 374),\n",
       "             ('today', 318),\n",
       "             ('interest', 94),\n",
       "             ('generic', 37),\n",
       "             ('medications', 42),\n",
       "             ('select', 61),\n",
       "             ('need', 930),\n",
       "             ('product', 243),\n",
       "             ('p', 486),\n",
       "             ('gkkge', 1),\n",
       "             ('gepl', 15),\n",
       "             ('volumes', 502),\n",
       "             ('hey', 71),\n",
       "             ('debbie', 20),\n",
       "             ('wanted', 93),\n",
       "             ('inform', 34),\n",
       "             ('volume', 606),\n",
       "             ('trevino', 36),\n",
       "             ('plant', 335),\n",
       "             ('moved', 58),\n",
       "             ('garza', 15),\n",
       "             ('effective', 334),\n",
       "             ('total', 229),\n",
       "             ('expected', 85),\n",
       "             ('increase', 125),\n",
       "             ('let', 746),\n",
       "             ('know', 1040),\n",
       "             ('questions', 521),\n",
       "             ('first', 318),\n",
       "             ('delivery', 193),\n",
       "             ('atmic', 2),\n",
       "             ('marquis', 1),\n",
       "             ('letter', 78),\n",
       "             ('nom', 516),\n",
       "             ('january', 272),\n",
       "             ('hplnol', 30),\n",
       "             ('fw', 269),\n",
       "             ('rodessa', 9),\n",
       "             ('operating', 108),\n",
       "             ('daren', 1207),\n",
       "             ('talked', 33),\n",
       "             ('vance', 283),\n",
       "             ('said', 178),\n",
       "             ('well', 270),\n",
       "             ('nominated', 70),\n",
       "             ('bidweek', 9),\n",
       "             ('ask', 73),\n",
       "             ('julie', 271),\n",
       "             ('change', 490),\n",
       "             ('price', 803),\n",
       "             ('thanks', 1196),\n",
       "             ('bob', 452),\n",
       "             ('j', 847),\n",
       "             ('farmer', 718),\n",
       "             ('pm', 1493),\n",
       "             ('robert', 533),\n",
       "             ('cotten', 199),\n",
       "             ('hou', 4669),\n",
       "             ('ect', 8913),\n",
       "             ('guess', 37),\n",
       "             ('make', 382),\n",
       "             ('sure', 204),\n",
       "             ('gd', 39),\n",
       "             ('behind', 26),\n",
       "             ('meter', 1493),\n",
       "             ('either', 113),\n",
       "             ('create', 139),\n",
       "             ('deal', 1803),\n",
       "             ('ticket', 397),\n",
       "             ('piece', 21),\n",
       "             ('pricing', 131),\n",
       "             ('tier', 16),\n",
       "             ('old', 111),\n",
       "             ('north', 260),\n",
       "             ('america', 239),\n",
       "             ('memo', 41),\n",
       "             ('dated', 17),\n",
       "             ('told', 70),\n",
       "             ('entered', 146),\n",
       "             ('ifhsc', 20),\n",
       "             ('question', 74),\n",
       "             ('want', 377),\n",
       "             ('changed', 102),\n",
       "             ('advise', 97),\n",
       "             ('l', 691),\n",
       "             ('taylor', 205),\n",
       "             ('enronxgate', 106),\n",
       "             ('tom', 176),\n",
       "             ('acton', 93),\n",
       "             ('meyers', 162),\n",
       "             ('lisa', 200),\n",
       "             ('hesse', 62),\n",
       "             ('donald', 88),\n",
       "             ('reinhardt', 78),\n",
       "             ('smith', 249),\n",
       "             ('melissa', 251),\n",
       "             ('graves', 145),\n",
       "             ('cynthia', 89),\n",
       "             ('hakemack', 54),\n",
       "             ('following', 414),\n",
       "             ('line', 287),\n",
       "             ('created', 145),\n",
       "             ('sitara', 571),\n",
       "             ('based', 254),\n",
       "             ('counterparty', 174),\n",
       "             ('period', 133),\n",
       "             ('global', 163),\n",
       "             ('hesco', 65),\n",
       "             ('gathering', 119),\n",
       "             ('mmbtu', 795),\n",
       "             ('fyi', 197),\n",
       "             ('submit', 38),\n",
       "             ('committed', 43),\n",
       "             ('reserves', 56),\n",
       "             ('firm', 119),\n",
       "             ('remaining', 52),\n",
       "             ('term', 155),\n",
       "             ('beginning', 91),\n",
       "             ('month', 596),\n",
       "             ('april', 307),\n",
       "             ('additionally', 49),\n",
       "             ('producer', 74),\n",
       "             ('svcs', 39),\n",
       "             ('tracked', 40),\n",
       "             ('im', 104),\n",
       "             ('wellhead', 159),\n",
       "             ('portfolio', 69),\n",
       "             ('contract', 536),\n",
       "             ('vlt', 91),\n",
       "             ('x', 463),\n",
       "             ('buckley', 19),\n",
       "             ('esther', 21),\n",
       "             ('monday', 183),\n",
       "             ('carriere', 15),\n",
       "             ('molly', 26),\n",
       "             ('cernosek', 72),\n",
       "             ('clem', 113),\n",
       "             ('consemiu', 30),\n",
       "             ('donna', 97),\n",
       "             ('cook', 28),\n",
       "             ('camp', 112),\n",
       "             ('howard', 142),\n",
       "             ('hlavaty', 17),\n",
       "             ('nathan', 20),\n",
       "             ('wayne', 18),\n",
       "             ('lightfoot', 14),\n",
       "             ('mckay', 50),\n",
       "             ('james', 120),\n",
       "             ('mary', 331),\n",
       "             ('schneider', 42),\n",
       "             ('steve', 210),\n",
       "             ('walters', 28),\n",
       "             ('michael', 220),\n",
       "             ('zivley', 30),\n",
       "             ('jill', 49),\n",
       "             ('johnson', 58),\n",
       "             ('jo', 43),\n",
       "             ('wynne', 125),\n",
       "             ('rita', 144),\n",
       "             ('allen', 129),\n",
       "             ('lauri', 86),\n",
       "             ('jones', 113),\n",
       "             ('cheryl', 77),\n",
       "             ('hansen', 16),\n",
       "             ('reid', 17),\n",
       "             ('giron', 18),\n",
       "             ('darron', 17),\n",
       "             ('winfree', 35),\n",
       "             ('neal', 59),\n",
       "             ('bryan', 82),\n",
       "             ('gary', 367),\n",
       "             ('hanks', 154),\n",
       "             ('baumbach', 76),\n",
       "             ('david', 232),\n",
       "             ('riley', 48),\n",
       "             ('brian', 153),\n",
       "             ('austin', 37),\n",
       "             ('jeff', 103),\n",
       "             ('kenne', 16),\n",
       "             ('dawn', 20),\n",
       "             ('csikos', 34),\n",
       "             ('fosdick', 16),\n",
       "             ('rodriguez', 94),\n",
       "             ('carlos', 119),\n",
       "             ('gomes', 45),\n",
       "             ('stephanie', 92),\n",
       "             ('clynes', 183),\n",
       "             ('pat', 267),\n",
       "             ('walker', 49),\n",
       "             ('weissman', 106),\n",
       "             ('george', 233),\n",
       "             ('harris', 36),\n",
       "             ('joanne', 24),\n",
       "             ('sweeney', 34),\n",
       "             ('christy', 34),\n",
       "             ('tisdale', 53),\n",
       "             ('earl', 60),\n",
       "             ('hub', 52),\n",
       "             ('destructions', 2),\n",
       "             ('rough', 10),\n",
       "             ('draft', 50),\n",
       "             ('progress', 10),\n",
       "             ('would', 680),\n",
       "             ('love', 91),\n",
       "             ('feedback', 92),\n",
       "             ('car', 41),\n",
       "             ('starting', 63),\n",
       "             ('december', 201),\n",
       "             ('ford', 10),\n",
       "             ('motor', 22),\n",
       "             ('company', 750),\n",
       "             ('reviews', 23),\n",
       "             ('fossil', 6),\n",
       "             ('fuel', 174),\n",
       "             ('reduction', 27),\n",
       "             ('systems', 85),\n",
       "             ('percent', 35),\n",
       "             ('costs', 81),\n",
       "             ('http', 710),\n",
       "             ('cyberbargain', 2),\n",
       "             ('biz', 53),\n",
       "             ('enough', 55),\n",
       "             ('updates', 38),\n",
       "             ('details', 123),\n",
       "             ('covington', 3),\n",
       "             ('executioner', 1),\n",
       "             ('multicell', 1),\n",
       "             ('technologies', 45),\n",
       "             ('inc', 323),\n",
       "             ('warwick', 2),\n",
       "             ('united', 81),\n",
       "             ('states', 72),\n",
       "             ('phone', 247),\n",
       "             ('mobile', 70),\n",
       "             ('email', 565),\n",
       "             ('angkymc', 1),\n",
       "             ('earth', 9),\n",
       "             ('auto', 29),\n",
       "             ('generated', 16),\n",
       "             ('reply', 138),\n",
       "             ('software', 178),\n",
       "             ('decade', 8),\n",
       "             ('complementary', 4),\n",
       "             ('version', 98),\n",
       "             ('notes', 60),\n",
       "             ('contents', 26),\n",
       "             ('exclusive', 34),\n",
       "             ('use', 311),\n",
       "             ('affluence', 3),\n",
       "             ('uruguay', 2),\n",
       "             ('sawfly', 1),\n",
       "             ('salami', 3),\n",
       "             ('restaurant', 4),\n",
       "             ('wed', 39),\n",
       "             ('dell', 51),\n",
       "             ('pentium', 2),\n",
       "             ('ghz', 7),\n",
       "             ('system', 332),\n",
       "             ('features', 60),\n",
       "             ('powerful', 22),\n",
       "             ('combination', 19),\n",
       "             ('intel', 43),\n",
       "             ('processor', 4),\n",
       "             ('mb', 32),\n",
       "             ('ram', 28),\n",
       "             ('gb', 37),\n",
       "             ('hard', 68),\n",
       "             ('disk', 8),\n",
       "             ('drive', 73),\n",
       "             ('plays', 5),\n",
       "             ('host', 9),\n",
       "             ('microsoft', 164),\n",
       "             ('windows', 170),\n",
       "             ('xp', 128),\n",
       "             ('home', 212),\n",
       "             ('edition', 52),\n",
       "             ('cd', 115),\n",
       "             ('rw', 12),\n",
       "             ('dvd', 48),\n",
       "             ('rom', 19),\n",
       "             ('floppy', 4),\n",
       "             ('pre', 35),\n",
       "             ('installed', 17),\n",
       "             ('integrated', 7),\n",
       "             ('graphics', 20),\n",
       "             ('audio', 10),\n",
       "             ('included', 71),\n",
       "             ('running', 45),\n",
       "             ('hdd', 3),\n",
       "             ('others', 58),\n",
       "             ('cdrw', 12),\n",
       "             ('fdd', 1),\n",
       "             ('winxp', 1),\n",
       "             ('vga', 1),\n",
       "             ('sound', 18),\n",
       "             ('visit', 127),\n",
       "             ('www', 483),\n",
       "             ('computron', 139),\n",
       "             ('deals', 497),\n",
       "             ('distributorjebel', 14),\n",
       "             ('ali', 54),\n",
       "             ('duty', 57),\n",
       "             ('free', 330),\n",
       "             ('zonewww', 2),\n",
       "             ('latest', 70),\n",
       "             ('clearance', 30),\n",
       "             ('sale', 320),\n",
       "             ('listing', 40),\n",
       "             ('contact', 395),\n",
       "             ('sales', 271),\n",
       "             ('department', 69),\n",
       "             ('limited', 96),\n",
       "             ('quantities', 28),\n",
       "             ('available', 256),\n",
       "             ('selected', 47),\n",
       "             ('specials', 28),\n",
       "             ('complaints', 24),\n",
       "             ('suggestions', 34),\n",
       "             ('customerservice', 23),\n",
       "             ('compaq', 33),\n",
       "             ('hewlett', 24),\n",
       "             ('packard', 23),\n",
       "             ('iomega', 23),\n",
       "             ('epson', 27),\n",
       "             ('aopen', 23),\n",
       "             ('creative', 37),\n",
       "             ('toshiba', 28),\n",
       "             ('apc', 23),\n",
       "             ('cisco', 28),\n",
       "             ('us', 615),\n",
       "             ('robotics', 24),\n",
       "             ('canon', 29),\n",
       "             ('intellinet', 23),\n",
       "             ('targus', 23),\n",
       "             ('viewsonic', 23),\n",
       "             ('ibm', 41),\n",
       "             ('sony', 31),\n",
       "             ('lots', 35),\n",
       "             ('tel', 51),\n",
       "             ('prices', 182),\n",
       "             ('u', 223),\n",
       "             ('ex', 36),\n",
       "             ('works', 114),\n",
       "             ('fax', 247),\n",
       "             ('jebel', 33),\n",
       "             ('zone', 76),\n",
       "             ('availability', 49),\n",
       "             ('usa', 75),\n",
       "             ('canada', 75),\n",
       "             ('without', 182),\n",
       "             ('notice', 118),\n",
       "             ('receive', 196),\n",
       "             ('special', 157),\n",
       "             ('offers', 93),\n",
       "             ('plain', 40),\n",
       "             ('text', 71),\n",
       "             ('format', 43),\n",
       "             ('mail', 576),\n",
       "             ('request', 221),\n",
       "             ('export', 32),\n",
       "             ('considered', 57),\n",
       "             ('spam', 50),\n",
       "             ('long', 139),\n",
       "             ('include', 117),\n",
       "             ('information', 763),\n",
       "             ('remove', 110),\n",
       "             ('instructions', 52),\n",
       "             ('intended', 80),\n",
       "             ('dealer', 41),\n",
       "             ('resellers', 26),\n",
       "             ('somehow', 31),\n",
       "             ('gotten', 28),\n",
       "             ('error', 114),\n",
       "             ('reason', 67),\n",
       "             ('removed', 74),\n",
       "             ('compliance', 61),\n",
       "             ('federal', 54),\n",
       "             ('legislation', 25),\n",
       "             ('commercial', 69),\n",
       "             ('h', 185),\n",
       "             ('section', 143),\n",
       "             ('paragraph', 39),\n",
       "             ('bill', 75),\n",
       "             ('title', 46),\n",
       "             ('iii', 34),\n",
       "             ('passed', 46),\n",
       "             ('congress', 26),\n",
       "             ('logos', 27),\n",
       "             ('trademarks', 30),\n",
       "             ('property', 54),\n",
       "             ('respective', 42),\n",
       "             ('ownerstoshiba', 2),\n",
       "             ('products', 232),\n",
       "             ('may', 882),\n",
       "             ('exactly', 42),\n",
       "             ('shown', 48),\n",
       "             ('follow', 108),\n",
       "             ('link', 189),\n",
       "             ('copy', 148),\n",
       "             ('paste', 62),\n",
       "             ('browser', 68),\n",
       "             ('week', 273),\n",
       "             ('neon', 63),\n",
       "             ('sheet', 28),\n",
       "             ('awesome', 9),\n",
       "             ('glory', 3),\n",
       "             ('doc', 130),\n",
       "             ('three', 123),\n",
       "             ('rivers', 27),\n",
       "             ('issues', 120),\n",
       "             ('fred', 77),\n",
       "             ('trying', 66),\n",
       "             ('set', 267),\n",
       "             ('accounting', 108),\n",
       "             ('arrangments', 2),\n",
       "             ('cover', 81),\n",
       "             ('swift', 32),\n",
       "             ('verify', 61),\n",
       "             ('made', 235),\n",
       "             ('purchase', 256),\n",
       "             ('another', 128),\n",
       "             ('replace', 10),\n",
       "             ('extended', 79),\n",
       "             ('forward', 338),\n",
       "             ('someone', 143),\n",
       "             ('else', 88),\n",
       "             ('help', 304),\n",
       "             ('stella', 60),\n",
       "             ('morris', 61),\n",
       "             ('boas', 35),\n",
       "             ('lloyd', 151),\n",
       "             ('pathed', 58),\n",
       "             ('correctly', 44),\n",
       "             ('pops', 112),\n",
       "             ('arrangement', 40),\n",
       "             ('track', 65),\n",
       "             ('id', 154),\n",
       "             ('put', 137),\n",
       "             ('associated', 39),\n",
       "             ('transportation', 56),\n",
       "             ('liquids', 30),\n",
       "             ('replacement', 9),\n",
       "             ('looked', 32),\n",
       "             ('path', 88),\n",
       "             ('manager', 154),\n",
       "             ('could', 366),\n",
       "             ('extend', 83),\n",
       "             ('supposed', 11),\n",
       "             ('go', 298),\n",
       "             ('done', 150),\n",
       "             ('reallocate', 10),\n",
       "             ('november', 191),\n",
       "             ('avails', 29),\n",
       "             ('revision', 74),\n",
       "             ('mid', 78),\n",
       "             ('continent', 8),\n",
       "             ('bev', 9),\n",
       "             ('beverly', 61),\n",
       "             ('beaty', 39),\n",
       "             ('capital', 58),\n",
       "             ('trade', 142),\n",
       "             ('resources', 185),\n",
       "             ('holmes', 41),\n",
       "             ('availabilities', 40),\n",
       "             ('revised', 150),\n",
       "             ('spreadsheet', 131),\n",
       "             ('enronavailsl', 4),\n",
       "             ('meters', 151),\n",
       "             ('particular', 29),\n",
       "             ('imbalances', 16),\n",
       "             ('close', 89),\n",
       "             ('end', 183),\n",
       "             ('big', 101),\n",
       "             ('cowboy', 30),\n",
       "             ('august', 219),\n",
       "             ('issue', 188),\n",
       "             ('confirmed', 94),\n",
       "             ('versus', 11),\n",
       "             ('actual', 187),\n",
       "             ('flow', 453),\n",
       "             ('variance', 17),\n",
       "             ('began', 19),\n",
       "             ('june', 266),\n",
       "             ('dix', 2),\n",
       "             ('ranch', 84),\n",
       "             ('zero', 109),\n",
       "             ('wells', 43),\n",
       "             ('appears', 40),\n",
       "             ('despain', 1),\n",
       "             ('never', 98),\n",
       "             ('flowed', 98),\n",
       "             ('approximately', 76),\n",
       "             ('actually', 36),\n",
       "             ('support', 146),\n",
       "             ('mops', 50),\n",
       "             ('trend', 3),\n",
       "             ('nothing', 62),\n",
       "             ('continued', 30),\n",
       "             ('july', 333),\n",
       "             ('scenario', 7),\n",
       "             ('reading', 11),\n",
       "             ('flowing', 55),\n",
       "             ('suggest', 33),\n",
       "             ('measurement', 30),\n",
       "             ('audit', 17),\n",
       "             ('coral', 13),\n",
       "             ('charts', 5),\n",
       "             ('calculating', 6),\n",
       "             ('incorrectly', 14),\n",
       "             ('allocations', 28),\n",
       "             ('allocation', 126),\n",
       "             ('closely', 13),\n",
       "             ('agrees', 5),\n",
       "             ('statement', 49),\n",
       "             ('monthly', 87),\n",
       "             ('karen', 83),\n",
       "             ('lambert', 4),\n",
       "             ('tejas', 54),\n",
       "             ('differences', 8),\n",
       "             ('schedule', 86),\n",
       "             ('acock', 7),\n",
       "             ('gain', 25),\n",
       "             ('therefore', 74),\n",
       "             ('allocated', 124),\n",
       "             ('working', 112),\n",
       "             ('tell', 64),\n",
       "             ('arrangements', 29),\n",
       "             ('scheduling', 106),\n",
       "             ('analyze', 9),\n",
       "             ('possibly', 17),\n",
       "             ('rework', 1),\n",
       "             ('months', 133),\n",
       "             ('originally', 14),\n",
       "             ('missed', 17),\n",
       "             ('clarify', 11),\n",
       "             ('anything', 134),\n",
       "             ('poorman', 71),\n",
       "             ('noticed', 12),\n",
       "             ('king', 57),\n",
       "             ('appeared', 11),\n",
       "             ('nomination', 390),\n",
       "             ('day', 682),\n",
       "             ('per', 384),\n",
       "             ('conversation', 35),\n",
       "             ('discovered', 22),\n",
       "             ('two', 234),\n",
       "             ('noms', 214),\n",
       "             ('considerable', 2),\n",
       "             ('follows', 86),\n",
       "             ('rocher', 2),\n",
       "             ('approx', 26),\n",
       "             ('mm', 53),\n",
       "             ('think', 221),\n",
       "             ('part', 153),\n",
       "             ('account', 203),\n",
       "             ('addition', 86),\n",
       "             ('briscoe', 2),\n",
       "             ('came', 42),\n",
       "             ('capturing', 2),\n",
       "             ('purchases', 59),\n",
       "             ('economics', 10),\n",
       "             ('thank', 263),\n",
       "             ('pipeline', 225),\n",
       "             ('svajian', 10),\n",
       "             ('occidental', 4),\n",
       "             ('battleground', 3),\n",
       "             ('october', 223),\n",
       "             ('immediately', 64),\n",
       "             ('avoid', 39),\n",
       "             ('carefully', 15),\n",
       "             ('migration', 23),\n",
       "             ('connected', 21),\n",
       "             ('network', 57),\n",
       "             ('launch', 26),\n",
       "             ('application', 80),\n",
       "             ('button', 36),\n",
       "             ('pop', 15),\n",
       "             ('box', 97),\n",
       "             ('prompting', 4),\n",
       "             ('abort', 3),\n",
       "             ('cancel', 15),\n",
       "             ('trust', 20),\n",
       "             ('signer', 9),\n",
       "             ('appear', 38),\n",
       "             ('multiple', 46),\n",
       "             ('times', 70),\n",
       "             ('every', 144),\n",
       "             ('instance', 10),\n",
       "             ('note', 183),\n",
       "             ('existing', 55),\n",
       "             ('personal', 80),\n",
       "             ('book', 91),\n",
       "             ('journal', 15),\n",
       "             ('entries', 21),\n",
       "             ('private', 71),\n",
       "             ('folder', 8),\n",
       "             ('structure', 23),\n",
       "             ('calendar', 36),\n",
       "             ('add', 98),\n",
       "             ('tool', 22),\n",
       "             ('manually', 18),\n",
       "             ('imported', 6),\n",
       "             ('outlook', 39),\n",
       "             ('migrated', 12),\n",
       "             ('failure', 13),\n",
       "             ('run', 73),\n",
       "             ('result', 35),\n",
       "             ('data', 176),\n",
       "             ('cooperation', 15),\n",
       "             ('team', 216),\n",
       "             ('sept', 88),\n",
       "             ('ls', 122),\n",
       "             ('hplno', 134),\n",
       "             ('advised', 52),\n",
       "             ('discussed', 36),\n",
       "             ('morning', 104),\n",
       "             ('meeting', 175),\n",
       "             ('tetco', 58),\n",
       "             ('enerfin', 62),\n",
       "             ('operable', 4),\n",
       "             ('assisgned', 1),\n",
       "             ('aimee', 227),\n",
       "             ('lannou', 152),\n",
       "             ('sabrae', 33),\n",
       "             ('zajac', 22),\n",
       "             ('mark', 213),\n",
       "             ('mccoy', 58),\n",
       "             ('eddie', 20),\n",
       "             ('janzen', 13),\n",
       "             ('na', 164),\n",
       "             ('hadix', 11),\n",
       "             ('edward', 70),\n",
       "             ('gottlob', 28),\n",
       "             ('liz', 72),\n",
       "             ('bellamy', 64),\n",
       "             ('going', 199),\n",
       "             ('assigned', 40),\n",
       "             ('lst', 90),\n",
       "             ('eastrans', 196),\n",
       "             ('deliveries', 135),\n",
       "             ('dy', 79),\n",
       "             ('redeliveries', 98),\n",
       "             ('fuels', 121),\n",
       "             ('cotton', 103),\n",
       "             ('valley', 106),\n",
       "             ('pg', 153),\n",
       "             ('marta', 39),\n",
       "             ('k', 223),\n",
       "             ('henderson', 38),\n",
       "             ('houston', 250),\n",
       "             ('pefs', 128),\n",
       "             ('pec', 500),\n",
       "             ('darrel', 18),\n",
       "             ('bane', 20),\n",
       "             ('easttexas', 58),\n",
       "             ('john', 199),\n",
       "             ('bretz', 20),\n",
       "             ('gcs', 132),\n",
       "             ('cec', 132),\n",
       "             ('chad', 49),\n",
       "             ('cass', 44),\n",
       "             ('cherry', 26),\n",
       "             ('william', 55),\n",
       "             ('speckels', 28),\n",
       "             ('spencer', 23),\n",
       "             ('julia', 24),\n",
       "             ('urbanek', 21),\n",
       "             ('briley', 25),\n",
       "             ('dfarmer', 67),\n",
       "             ('connie', 31),\n",
       "             ('wester', 14),\n",
       "             ('ronald', 12),\n",
       "             ('douglas', 13),\n",
       "             ('daniel', 40),\n",
       "             ('rider', 8),\n",
       "             ('lehman', 10),\n",
       "             ('field', 119),\n",
       "             ('dobb', 5),\n",
       "             ('sharon', 26),\n",
       "             ('beemer', 20),\n",
       "             ('lee', 171),\n",
       "             ('spivey', 3),\n",
       "             ('industrials', 29),\n",
       "             ('kenneth', 38),\n",
       "             ('seaman', 36),\n",
       "             ('ken', 89),\n",
       "             ('transitioned', 1),\n",
       "             ('complete', 106),\n",
       "             ('left', 98),\n",
       "             ('transition', 50),\n",
       "             ('cummings', 5),\n",
       "             ('exxon', 58),\n",
       "             ('cummins', 9),\n",
       "             ('oil', 222),\n",
       "             ('hsc', 196),\n",
       "             ('suemaur', 8),\n",
       "             ('exploration', 74),\n",
       "             ('eric', 50),\n",
       "             ('wardle', 7),\n",
       "             ('gpgfin', 66),\n",
       "             ('gco', 84),\n",
       "             ('jeffrey', 37),\n",
       "             ('kristen', 36),\n",
       "             ('hanson', 37),\n",
       "             ('letters', 41),\n",
       "             ('epgt', 49),\n",
       "             ('schumack', 83),\n",
       "             ('sherlyn', 108),\n",
       "             ('kinsey', 21),\n",
       "             ('olsen', 44),\n",
       "             ('swisher', 15),\n",
       "             ('stephen', 47),\n",
       "             ('mike', 126),\n",
       "             ('inter', 12),\n",
       "             ('pool', 29),\n",
       "             ('balance', 58),\n",
       "             ('feb', 221),\n",
       "             ('mar', 54),\n",
       "             ('transport', 255),\n",
       "             ('usage', 42),\n",
       "             ('clear', 85),\n",
       "             ('balances', 10),\n",
       "             ('injection', 5),\n",
       "             ('oasis', 61),\n",
       "             ('withdrawal', 7),\n",
       "             ('hakeem', 12),\n",
       "             ('ogunbunmi', 11),\n",
       "             ('management', 283),\n",
       "             ('net', 506),\n",
       "             ('huntsville', 2),\n",
       "             ('woodlands', 11),\n",
       "             ('conroe', 3),\n",
       "             ('days', 360),\n",
       "             ('entex', 116),\n",
       "             ('fixed', 51),\n",
       "             ('swap', 14),\n",
       "             ('profile', 42),\n",
       "             ('respond', 42),\n",
       "             ('anderson', 26),\n",
       "             ('darren', 106),\n",
       "             ('patience', 14),\n",
       "             ('patricia', 18),\n",
       "             ('rev', 18),\n",
       "             ('withers', 50),\n",
       "             ('stretch', 23),\n",
       "             ('brennan', 21),\n",
       "             ('knox', 12),\n",
       "             ('westmoreland', 10),\n",
       "             ('kevin', 51),\n",
       "             ('mclarney', 5),\n",
       "             ('josey', 21),\n",
       "             ('kcs', 48),\n",
       "             ('decrease', 22),\n",
       "             ('texaco', 29),\n",
       "             ('assumed', 11),\n",
       "             ('btu', 45),\n",
       "             ('factor', 18),\n",
       "             ('dry', 19),\n",
       "             ('additional', 177),\n",
       "             ('victoria', 28),\n",
       "             ('san', 30),\n",
       "             ('felipe', 12),\n",
       "             ('tx', 129),\n",
       "             ...])"
      ]
     },
     "execution_count": 10,
     "metadata": {},
     "output_type": "execute_result"
    }
   ],
   "source": [
    "from tensorflow.keras.preprocessing.text import Tokenizer\n",
    "from tensorflow.keras.preprocessing.sequence import pad_sequences\n",
    "\n",
    "tokenizer = Tokenizer(num_words=1500)\n",
    "tokenizer.fit_on_texts(X_train)\n",
    "\n",
    "tokenizer.word_counts"
   ]
  },
  {
   "cell_type": "code",
   "execution_count": 11,
   "metadata": {},
   "outputs": [
    {
     "name": "stdout",
     "output_type": "stream",
     "text": [
      "Vocabulary size:  36003\n"
     ]
    }
   ],
   "source": [
    "X_train_padded = tokenizer.texts_to_sequences(X_train)\n",
    "X_test_padded = tokenizer.texts_to_sequences(X_test)\n",
    "X_val_padded = tokenizer.texts_to_sequences(X_val)\n",
    "\n",
    "vocab_size = len(tokenizer.word_index) + 1\n",
    "print(\"Vocabulary size: \", vocab_size)"
   ]
  },
  {
   "cell_type": "code",
   "execution_count": 12,
   "metadata": {},
   "outputs": [],
   "source": [
    "maxlen = len(max(X_train_padded, key=len))\n",
    "X_train_padded = pad_sequences(X_train_padded, padding='pre', maxlen=maxlen)\n",
    "X_test_padded = pad_sequences(X_test_padded, padding='pre', maxlen=maxlen)\n",
    "X_val_padded = pad_sequences(X_val_padded, padding='pre', maxlen=maxlen)"
   ]
  },
  {
   "cell_type": "code",
   "execution_count": 13,
   "metadata": {},
   "outputs": [
    {
     "data": {
      "text/plain": [
       "array([[   0,    0,    0, ...,  409,  508,  576],\n",
       "       [   0,    0,    0, ...,    0,    0,    2],\n",
       "       [   0,    0,    0, ...,  556,   68,    4],\n",
       "       [   0,    0,    0, ..., 1450,  288,   37],\n",
       "       [   0,    0,    0, ...,  385,  648,  197]], dtype=int32)"
      ]
     },
     "execution_count": 13,
     "metadata": {},
     "output_type": "execute_result"
    },
    {
     "data": {
      "text/plain": [
       "(3360, 1725)"
      ]
     },
     "execution_count": 13,
     "metadata": {},
     "output_type": "execute_result"
    },
    {
     "data": {
      "text/plain": [
       "(3360,)"
      ]
     },
     "execution_count": 13,
     "metadata": {},
     "output_type": "execute_result"
    }
   ],
   "source": [
    "X_train_padded[0:5]\n",
    "X_train_padded.shape\n",
    "y_train.shape"
   ]
  },
  {
   "cell_type": "code",
   "execution_count": 14,
   "metadata": {},
   "outputs": [],
   "source": [
    "import tensorflow as tf\n",
    "early_stopping = md.EarlyStopping(5)"
   ]
  },
  {
   "cell_type": "code",
   "execution_count": 15,
   "metadata": {},
   "outputs": [],
   "source": [
    "from tensorflow.keras.layers import Input, Dense\n",
    "from tensorflow.keras.models import load_model, Model\n",
    "from tensorflow.keras.backend import clear_session\n",
    "from models import GRU_model"
   ]
  },
  {
   "cell_type": "code",
   "execution_count": 16,
   "metadata": {},
   "outputs": [],
   "source": [
    "\n",
    "clear_session()\n",
    "@tf.keras.saving.register_keras_serializable()\n",
    "def weighted_binary_crossentropy(w0, w1):\n",
    "    def loss(y_true, y_pred):\n",
    "        y_true = tf.cast(y_true, tf.float32)\n",
    "        y_pred = tf.clip_by_value(y_pred, 1e-7, 1-1e-7)\n",
    "        _w0 = tf.constant(w0, dtype=tf.float32)\n",
    "        _w1 = tf.constant(w1, dtype=tf.float32)\n",
    "        loss = -_w0 * y_true * tf.math.log(y_pred) - _w1 * (1 - y_true) * tf.math.log(1 - y_pred)\n",
    "        return tf.reduce_mean(loss)\n",
    "    return loss"
   ]
  },
  {
   "cell_type": "code",
   "execution_count": 17,
   "metadata": {},
   "outputs": [
    {
     "data": {
      "text/plain": [
       "([0.7055858882822343], [1.7160367722165475])"
      ]
     },
     "execution_count": 17,
     "metadata": {},
     "output_type": "execute_result"
    }
   ],
   "source": [
    "w0 = [(1/np.sum(y_train == 0)) * (len(y_train) /2)]\n",
    "w1 = [(1/np.sum(y_train == 1)) * (len(y_train) /2)] \n",
    "w0, w1"
   ]
  },
  {
   "cell_type": "code",
   "execution_count": 18,
   "metadata": {},
   "outputs": [],
   "source": [
    "reinforced_model = \"reinforced_lstm.keras\"\n",
    "tf_to_do = True\n",
    "if reinforced_model in os.listdir('../models'):\n",
    "    lstm_cnn_model = load_model(\"../models/\"+reinforced_model, custom_objects={'loss': weighted_binary_crossentropy(w0, w1)})\n",
    "    tf_to_do = False\n",
    "else:                       \n",
    "    lstm_cnn_model_keras = \"lstm_cnn_model.keras\"\n",
    "    custom_objects = {'loss': md.weighted_binary_crossentropy(w0, w1)}\n",
    "    transfer_learning_model = load_model(\"../models/\"+lstm_cnn_model_keras, custom_objects=custom_objects, )"
   ]
  },
  {
   "cell_type": "code",
   "execution_count": 19,
   "metadata": {},
   "outputs": [],
   "source": [
    "if tf_to_do:\n",
    "    transfer_learning_model.summary()"
   ]
  },
  {
   "cell_type": "code",
   "execution_count": 20,
   "metadata": {},
   "outputs": [],
   "source": [
    "if tf_to_do:\n",
    "    new_input = Input(shape=(maxlen,))\n",
    "    transfer_learning_model.summary()\n",
    "    output = transfer_learning_model.layers[0](new_input)\n",
    "    for i in range(1, len(transfer_learning_model.layers)):\n",
    "        output = transfer_learning_model.layers[i](output)\n",
    "    output = Dense(1, activation='sigmoid', name='output')(output)\n",
    "    lstm_cnn_model = Model(new_input, output)"
   ]
  },
  {
   "cell_type": "code",
   "execution_count": 21,
   "metadata": {},
   "outputs": [
    {
     "name": "stdout",
     "output_type": "stream",
     "text": [
      "Model: \"model\"\n",
      "_________________________________________________________________\n",
      " Layer (type)                Output Shape              Param #   \n",
      "=================================================================\n",
      " input_1 (InputLayer)        [(None, 1725)]            0         \n",
      "                                                                 \n",
      " embedding (Embedding)       (None, 1725, 150)         13954350  \n",
      "                                                                 \n",
      " dropout (Dropout)           (None, 1725, 150)         0         \n",
      "                                                                 \n",
      " bidirectional (Bidirection  (None, 1725, 200)         200800    \n",
      " al)                                                             \n",
      "                                                                 \n",
      " dropout_1 (Dropout)         (None, 1725, 200)         0         \n",
      "                                                                 \n",
      " conv1d (Conv1D)             (None, 1721, 64)          64064     \n",
      "                                                                 \n",
      " global_max_pooling1d (Glob  (None, 64)                0         \n",
      " alMaxPooling1D)                                                 \n",
      "                                                                 \n",
      " dropout_2 (Dropout)         (None, 64)                0         \n",
      "                                                                 \n",
      " dense (Dense)               (None, 32)                2080      \n",
      "                                                                 \n",
      " dense_1 (Dense)             (None, 6)                 198       \n",
      "                                                                 \n",
      " output (Dense)              (None, 1)                 7         \n",
      "                                                                 \n",
      "=================================================================\n",
      "Total params: 14221499 (54.25 MB)\n",
      "Trainable params: 14221499 (54.25 MB)\n",
      "Non-trainable params: 0 (0.00 Byte)\n",
      "_________________________________________________________________\n"
     ]
    }
   ],
   "source": [
    "lstm_cnn_model.compile(optimizer='adam', loss=md.weighted_binary_crossentropy(w0, w1), metrics=['accuracy'])\n",
    "lstm_cnn_model.summary()"
   ]
  },
  {
   "cell_type": "code",
   "execution_count": 22,
   "metadata": {},
   "outputs": [],
   "source": [
    "if tf_to_do:\n",
    "    lstm_cnn_model.fit(X_train_padded, \n",
    "        y_train, \n",
    "        epochs=10, \n",
    "        validation_data=(X_val_padded, y_val), \n",
    "        batch_size=32, \n",
    "        callbacks=[early_stopping])\n",
    "    lstm_cnn_model.save(\"../models/reinforced_lstm.keras\")"
   ]
  },
  {
   "cell_type": "code",
   "execution_count": 23,
   "metadata": {},
   "outputs": [],
   "source": [
    "clear_session()"
   ]
  },
  {
   "cell_type": "code",
   "execution_count": 24,
   "metadata": {},
   "outputs": [
    {
     "name": "stdout",
     "output_type": "stream",
     "text": [
      "Model: \"sequential\"\n",
      "_________________________________________________________________\n",
      " Layer (type)                Output Shape              Param #   \n",
      "=================================================================\n",
      " embedding (Embedding)       (None, 1725, 256)         9216768   \n",
      "                                                                 \n",
      " gru (GRU)                   (None, 128)               148224    \n",
      "                                                                 \n",
      " dense (Dense)               (None, 1)                 129       \n",
      "                                                                 \n",
      "=================================================================\n",
      "Total params: 9365121 (35.73 MB)\n",
      "Trainable params: 9365121 (35.73 MB)\n",
      "Non-trainable params: 0 (0.00 Byte)\n",
      "_________________________________________________________________\n"
     ]
    }
   ],
   "source": [
    "gru_model_name = \"gru_model.keras\"\n",
    "if gru_model_name in os.listdir('../models'):\n",
    "        gru_model = load_model(\"../models/\"+gru_model_name)\n",
    "        gru_model.summary()\n",
    "        gru_model.compile(optimizer='adam', loss='binary_crossentropy', metrics=['accuracy'])\n",
    "\n",
    "else:\n",
    "        gru_model = GRU_model(vocab_size=vocab_size, maxlen=maxlen, activation='sigmoid')\n",
    "        gru_model.summary()\n",
    "        gru_model.compile(optimizer='adam', loss='binary_crossentropy', metrics=['accuracy'])\n",
    "        gru_model.fit(X_train_padded, \n",
    "                y_train, \n",
    "                epochs=10, \n",
    "                validation_data=(X_val_padded, y_val), \n",
    "                batch_size=32, \n",
    "                callbacks=[early_stopping])\n",
    "\n",
    "        gru_model.save(\"../models/\"+gru_model_name)"
   ]
  },
  {
   "cell_type": "code",
   "execution_count": 25,
   "metadata": {},
   "outputs": [
    {
     "name": "stdout",
     "output_type": "stream",
     "text": [
      "33/33 [==============================] - 11s 321ms/step\n"
     ]
    }
   ],
   "source": [
    "y_pred = gru_model.predict(X_test_padded)"
   ]
  },
  {
   "cell_type": "code",
   "execution_count": 26,
   "metadata": {},
   "outputs": [
    {
     "name": "stdout",
     "output_type": "stream",
     "text": [
      "33/33 [==============================] - 15s 430ms/step\n"
     ]
    }
   ],
   "source": [
    "y_pred_cnn_lstm = lstm_cnn_model.predict(X_test_padded)"
   ]
  },
  {
   "cell_type": "code",
   "execution_count": 27,
   "metadata": {},
   "outputs": [
    {
     "name": "stdout",
     "output_type": "stream",
     "text": [
      "\u001b[94mGRU model report:\u001b[0m\n",
      "\u001b[1m\t\tprecision    recall  f1-score   support\u001b[0m\n",
      "           0       0.97      0.97      0.97       742\n",
      "           1       0.92      0.92      0.92       293\n",
      "\u001b[92m\t-------------------------------------------------\u001b[0m\n",
      "\n",
      "\n",
      "\u001b[94mLSTM (reinforced) model report:\u001b[0m\n",
      "\u001b[1m\t\tprecision    recall  f1-score   support\u001b[0m\n",
      "           0       0.99      0.98      0.98       742\n",
      "           1       0.95      0.96      0.96       293\n",
      "\u001b[92m\t-------------------------------------------------\u001b[0m\n",
      "\n",
      "\n",
      "GRU Model Confusion Matrix\n"
     ]
    },
    {
     "data": {
      "image/png": "[encoded data removed]",
      "text/plain": [
       "<Figure size 700x500 with 2 Axes>"
      ]
     },
     "metadata": {},
     "output_type": "display_data"
    },
    {
     "name": "stdout",
     "output_type": "stream",
     "text": [
      "Reinforced LSTM Model Confusion Matrix\n"
     ]
    },
    {
     "data": {
      "image/png": "[encoded data removed]",
      "text/plain": [
       "<Figure size 700x500 with 2 Axes>"
      ]
     },
     "metadata": {},
     "output_type": "display_data"
    }
   ],
   "source": [
    "from sklearn.metrics import classification_report, confusion_matrix\n",
    "from plots import print_confusion_matrix, print_table_from_classification_report\n",
    "\n",
    "print_table_from_classification_report(\"GRU model report:\", classification_report(y_test, np.round(y_pred)))\n",
    "print_table_from_classification_report(\"LSTM (reinforced) model report:\", classification_report(y_test, np.round(y_pred_cnn_lstm)))\n",
    "print_confusion_matrix(y_test, np.round(y_pred), \"GRU Model Confusion Matrix\")\n",
    "print_confusion_matrix(y_test, np.round(y_pred_cnn_lstm), \"Reinforced LSTM Model Confusion Matrix\")"
   ]
  },
  {
   "cell_type": "code",
   "execution_count": 28,
   "metadata": {},
   "outputs": [],
   "source": [
    "y_pred_cnn_lstm = np.round(y_pred_cnn_lstm)"
   ]
  },
  {
   "cell_type": "code",
   "execution_count": 29,
   "metadata": {},
   "outputs": [
    {
     "data": {
      "text/plain": [
       "<Figure size 640x480 with 0 Axes>"
      ]
     },
     "execution_count": 29,
     "metadata": {},
     "output_type": "execute_result"
    },
    {
     "data": {
      "text/plain": [
       "<matplotlib.image.AxesImage at 0x71f4706f23d0>"
      ]
     },
     "execution_count": 29,
     "metadata": {},
     "output_type": "execute_result"
    },
    {
     "data": {
      "text/plain": [
       "(-0.5, 399.5, 199.5, -0.5)"
      ]
     },
     "execution_count": 29,
     "metadata": {},
     "output_type": "execute_result"
    },
    {
     "data": {
      "image/png": "[encoded data removed]",
      "text/plain": [
       "<Figure size 640x480 with 1 Axes>"
      ]
     },
     "metadata": {},
     "output_type": "display_data"
    },
    {
     "data": {
      "text/plain": [
       "<Figure size 640x480 with 0 Axes>"
      ]
     },
     "execution_count": 29,
     "metadata": {},
     "output_type": "execute_result"
    },
    {
     "data": {
      "text/plain": [
       "<matplotlib.image.AxesImage at 0x71f41c0fa250>"
      ]
     },
     "execution_count": 29,
     "metadata": {},
     "output_type": "execute_result"
    },
    {
     "data": {
      "text/plain": [
       "(-0.5, 399.5, 199.5, -0.5)"
      ]
     },
     "execution_count": 29,
     "metadata": {},
     "output_type": "execute_result"
    },
    {
     "data": {
      "image/png": "[encoded data removed]",
      "text/plain": [
       "<Figure size 640x480 with 1 Axes>"
      ]
     },
     "metadata": {},
     "output_type": "display_data"
    }
   ],
   "source": [
    "from wordcloud import WordCloud\n",
    "import matplotlib.pyplot as plt\n",
    "wc = WordCloud(background_color=\"white\")\n",
    "ham_text = \" \".join(X_test[idx] for idx in np.where(y_pred_cnn_lstm == 0)[0])\n",
    "wordcloud_ham = wc.generate(ham_text)\n",
    "plt.figure()\n",
    "plt.imshow(wordcloud_ham, interpolation=\"bilinear\")\n",
    "plt.axis(\"off\")\n",
    "plt.show()\n",
    "\n",
    "\n",
    "spam_text = \" \".join(X_test[idx] for idx in np.where(y_pred_cnn_lstm == 1)[0])\n",
    "wordcloud_spam = wc.generate(spam_text)\n",
    "plt.figure()\n",
    "plt.imshow(wordcloud_spam, interpolation=\"bilinear\")\n",
    "plt.axis(\"off\")\n",
    "plt.show()\n"
   ]
  },
  {
   "cell_type": "markdown",
   "metadata": {},
   "source": [
    "## Clustering of spam emails\n",
    "\n",
    "IDEA: per individuare il numero di topics, possiamo usare l'elbow method, che consiste nel calcolare la somma dei quadrati delle distanze tra i punti e i centroidi. Questo valore viene calcolato per un numero di cluster crescente, e si sceglie il numero di cluster in cui la somma delle distanze si stabilizza.\n"
   ]
  },
  {
   "cell_type": "code",
   "execution_count": 30,
   "metadata": {},
   "outputs": [
    {
     "data": {
      "text/plain": [
       "numpy.ndarray"
      ]
     },
     "execution_count": 30,
     "metadata": {},
     "output_type": "execute_result"
    },
    {
     "data": {
      "text/plain": [
       "'subject hpl nom january see attached file hplnol xls hplnol xls'"
      ]
     },
     "execution_count": 30,
     "metadata": {},
     "output_type": "execute_result"
    }
   ],
   "source": [
    "type(preprocessed_text)\n",
    "preprocessed_text[1]"
   ]
  },
  {
   "cell_type": "code",
   "execution_count": 31,
   "metadata": {},
   "outputs": [],
   "source": [
    "from sklearn.cluster import KMeans\n",
    "import matplotlib.pyplot as plt\n",
    "def compute_inertia_with_kmeans_pp(data):\n",
    "    sse = {}\n",
    "\n",
    "    for k in range(1, 11):\n",
    "        kmeans = KMeans(init=\"k-means++\", n_clusters=k)\n",
    "        kmeans.fit(data)\n",
    "        sse[k] = kmeans.inertia_\n",
    "    plt.figure()\n",
    "    plt.plot(list(sse.keys()), list(sse.values()), marker=\"o\")\n",
    "    plt.show()"
   ]
  },
  {
   "cell_type": "code",
   "execution_count": 32,
   "metadata": {},
   "outputs": [
    {
     "data": {
      "image/png": "[encoded data removed]",
      "text/plain": [
       "<Figure size 640x480 with 1 Axes>"
      ]
     },
     "metadata": {},
     "output_type": "display_data"
    }
   ],
   "source": [
    "from sklearn.decomposition import PCA\n",
    "\n",
    "pca = PCA(n_components=3)\n",
    "X_1 = [x_pad for i, x_pad in enumerate(X_test_padded) if y_pred_cnn_lstm[i] == 1]\n",
    "X_3d = pca.fit_transform(X_1)\n",
    "\n",
    "compute_inertia_with_kmeans_pp(X_3d)"
   ]
  },
  {
   "cell_type": "code",
   "execution_count": 33,
   "metadata": {},
   "outputs": [],
   "source": [
    "import seaborn as sns\n",
    "import plotly.express as px\n",
    "import plotly.colors as pc\n",
    "import plotly.graph_objects as go\n",
    "\n",
    "def plot_scatter_2D(X, L, y_kmeans, labels, centers):\n",
    "    vfunc = np.vectorize(lambda x: L[x])\n",
    "    sns.scatterplot(x=X[:,0], y=X[:,1], hue=vfunc(y_kmeans), s=75) #ERRORE QUI; X[:,0] NON E' UN ARRAY DI NUMERI, BENSI UN ARRAY DI ARRAY PAROLE\n",
    "    plt.scatter(centers[:,0], centers[:,1], c=\"red\", s=150, alpha=0.5)#, cmap='viridis')\n",
    "    \n",
    "    #if print_ssd:\n",
    "    #    plt.text(X[:,0].max()-10, 0, f\"SSD={model.inertia_:.2f}\")\n",
    "    \n",
    "    plt.show()\n",
    "\n",
    "def plot_scatter_3D(X, L, y_kmeans, centers, point_size = 5):\n",
    "    colors = pc.qualitative.Plotly\n",
    "    vfunc = np.vectorize(lambda x: L[x])\n",
    "    grf_color = vfunc(y_kmeans)\n",
    "    X['point_size'] = point_size\n",
    "    fig = px.scatter_3d(\n",
    "        X, \n",
    "        x=X['x'],\n",
    "        y=X['y'],\n",
    "        z=X['z'],\n",
    "        color=grf_color,\n",
    "        size='point_size',\n",
    "        opacity=0.8, \n",
    "        title='Topics clusters',\n",
    "        width=800,\n",
    "        height=800,       \n",
    "    )\n",
    "\n",
    "    fig.add_trace(go.Scatter3d(\n",
    "        x=centers[:,0],\n",
    "        y=centers[:,1],\n",
    "        z=centers[:,2],\n",
    "        mode='markers',\n",
    "        marker=dict(\n",
    "            size=10,\n",
    "            color='black',\n",
    "            opacity=0.5\n",
    "        ),\n",
    "        name='Centers'\n",
    "    ))\n",
    "\n",
    "    fig.update_layout(\n",
    "        title_font_family = 'Courier New',\n",
    "        title_font_size = 25,\n",
    "        title_xanchor= 'left'\n",
    "    )\n",
    "\n",
    "    fig.show()\n"
   ]
  },
  {
   "cell_type": "code",
   "execution_count": 34,
   "metadata": {},
   "outputs": [
    {
     "data": {
      "text/html": [
       "<style>#sk-container-id-1 {\n",
       "  /* Definition of color scheme common for light and dark mode */\n",
       "  --sklearn-color-text: black;\n",
       "  --sklearn-color-line: gray;\n",
       "  /* Definition of color scheme for unfitted estimators */\n",
       "  --sklearn-color-unfitted-level-0: #fff5e6;\n",
       "  --sklearn-color-unfitted-level-1: #f6e4d2;\n",
       "  --sklearn-color-unfitted-level-2: #ffe0b3;\n",
       "  --sklearn-color-unfitted-level-3: chocolate;\n",
       "  /* Definition of color scheme for fitted estimators */\n",
       "  --sklearn-color-fitted-level-0: #f0f8ff;\n",
       "  --sklearn-color-fitted-level-1: #d4ebff;\n",
       "  --sklearn-color-fitted-level-2: #b3dbfd;\n",
       "  --sklearn-color-fitted-level-3: cornflowerblue;\n",
       "\n",
       "  /* Specific color for light theme */\n",
       "  --sklearn-color-text-on-default-background: var(--sg-text-color, var(--theme-code-foreground, var(--jp-content-font-color1, black)));\n",
       "  --sklearn-color-background: var(--sg-background-color, var(--theme-background, var(--jp-layout-color0, white)));\n",
       "  --sklearn-color-border-box: var(--sg-text-color, var(--theme-code-foreground, var(--jp-content-font-color1, black)));\n",
       "  --sklearn-color-icon: #696969;\n",
       "\n",
       "  @media (prefers-color-scheme: dark) {\n",
       "    /* Redefinition of color scheme for dark theme */\n",
       "    --sklearn-color-text-on-default-background: var(--sg-text-color, var(--theme-code-foreground, var(--jp-content-font-color1, white)));\n",
       "    --sklearn-color-background: var(--sg-background-color, var(--theme-background, var(--jp-layout-color0, #111)));\n",
       "    --sklearn-color-border-box: var(--sg-text-color, var(--theme-code-foreground, var(--jp-content-font-color1, white)));\n",
       "    --sklearn-color-icon: #878787;\n",
       "  }\n",
       "}\n",
       "\n",
       "#sk-container-id-1 {\n",
       "  color: var(--sklearn-color-text);\n",
       "}\n",
       "\n",
       "#sk-container-id-1 pre {\n",
       "  padding: 0;\n",
       "}\n",
       "\n",
       "#sk-container-id-1 input.sk-hidden--visually {\n",
       "  border: 0;\n",
       "  clip: rect(1px 1px 1px 1px);\n",
       "  clip: rect(1px, 1px, 1px, 1px);\n",
       "  height: 1px;\n",
       "  margin: -1px;\n",
       "  overflow: hidden;\n",
       "  padding: 0;\n",
       "  position: absolute;\n",
       "  width: 1px;\n",
       "}\n",
       "\n",
       "#sk-container-id-1 div.sk-dashed-wrapped {\n",
       "  border: 1px dashed var(--sklearn-color-line);\n",
       "  margin: 0 0.4em 0.5em 0.4em;\n",
       "  box-sizing: border-box;\n",
       "  padding-bottom: 0.4em;\n",
       "  background-color: var(--sklearn-color-background);\n",
       "}\n",
       "\n",
       "#sk-container-id-1 div.sk-container {\n",
       "  /* jupyter's `normalize.less` sets `[hidden] { display: none; }`\n",
       "     but bootstrap.min.css set `[hidden] { display: none !important; }`\n",
       "     so we also need the `!important` here to be able to override the\n",
       "     default hidden behavior on the sphinx rendered scikit-learn.org.\n",
       "     See: https://github.com/scikit-learn/scikit-learn/issues/21755 */\n",
       "  display: inline-block !important;\n",
       "  position: relative;\n",
       "}\n",
       "\n",
       "#sk-container-id-1 div.sk-text-repr-fallback {\n",
       "  display: none;\n",
       "}\n",
       "\n",
       "div.sk-parallel-item,\n",
       "div.sk-serial,\n",
       "div.sk-item {\n",
       "  /* draw centered vertical line to link estimators */\n",
       "  background-image: linear-gradient(var(--sklearn-color-text-on-default-background), var(--sklearn-color-text-on-default-background));\n",
       "  background-size: 2px 100%;\n",
       "  background-repeat: no-repeat;\n",
       "  background-position: center center;\n",
       "}\n",
       "\n",
       "/* Parallel-specific style estimator block */\n",
       "\n",
       "#sk-container-id-1 div.sk-parallel-item::after {\n",
       "  content: \"\";\n",
       "  width: 100%;\n",
       "  border-bottom: 2px solid var(--sklearn-color-text-on-default-background);\n",
       "  flex-grow: 1;\n",
       "}\n",
       "\n",
       "#sk-container-id-1 div.sk-parallel {\n",
       "  display: flex;\n",
       "  align-items: stretch;\n",
       "  justify-content: center;\n",
       "  background-color: var(--sklearn-color-background);\n",
       "  position: relative;\n",
       "}\n",
       "\n",
       "#sk-container-id-1 div.sk-parallel-item {\n",
       "  display: flex;\n",
       "  flex-direction: column;\n",
       "}\n",
       "\n",
       "#sk-container-id-1 div.sk-parallel-item:first-child::after {\n",
       "  align-self: flex-end;\n",
       "  width: 50%;\n",
       "}\n",
       "\n",
       "#sk-container-id-1 div.sk-parallel-item:last-child::after {\n",
       "  align-self: flex-start;\n",
       "  width: 50%;\n",
       "}\n",
       "\n",
       "#sk-container-id-1 div.sk-parallel-item:only-child::after {\n",
       "  width: 0;\n",
       "}\n",
       "\n",
       "/* Serial-specific style estimator block */\n",
       "\n",
       "#sk-container-id-1 div.sk-serial {\n",
       "  display: flex;\n",
       "  flex-direction: column;\n",
       "  align-items: center;\n",
       "  background-color: var(--sklearn-color-background);\n",
       "  padding-right: 1em;\n",
       "  padding-left: 1em;\n",
       "}\n",
       "\n",
       "\n",
       "/* Toggleable style: style used for estimator/Pipeline/ColumnTransformer box that is\n",
       "clickable and can be expanded/collapsed.\n",
       "- Pipeline and ColumnTransformer use this feature and define the default style\n",
       "- Estimators will overwrite some part of the style using the `sk-estimator` class\n",
       "*/\n",
       "\n",
       "/* Pipeline and ColumnTransformer style (default) */\n",
       "\n",
       "#sk-container-id-1 div.sk-toggleable {\n",
       "  /* Default theme specific background. It is overwritten whether we have a\n",
       "  specific estimator or a Pipeline/ColumnTransformer */\n",
       "  background-color: var(--sklearn-color-background);\n",
       "}\n",
       "\n",
       "/* Toggleable label */\n",
       "#sk-container-id-1 label.sk-toggleable__label {\n",
       "  cursor: pointer;\n",
       "  display: block;\n",
       "  width: 100%;\n",
       "  margin-bottom: 0;\n",
       "  padding: 0.5em;\n",
       "  box-sizing: border-box;\n",
       "  text-align: center;\n",
       "}\n",
       "\n",
       "#sk-container-id-1 label.sk-toggleable__label-arrow:before {\n",
       "  /* Arrow on the left of the label */\n",
       "  content: \"▸\";\n",
       "  float: left;\n",
       "  margin-right: 0.25em;\n",
       "  color: var(--sklearn-color-icon);\n",
       "}\n",
       "\n",
       "#sk-container-id-1 label.sk-toggleable__label-arrow:hover:before {\n",
       "  color: var(--sklearn-color-text);\n",
       "}\n",
       "\n",
       "/* Toggleable content - dropdown */\n",
       "\n",
       "#sk-container-id-1 div.sk-toggleable__content {\n",
       "  max-height: 0;\n",
       "  max-width: 0;\n",
       "  overflow: hidden;\n",
       "  text-align: left;\n",
       "  /* unfitted */\n",
       "  background-color: var(--sklearn-color-unfitted-level-0);\n",
       "}\n",
       "\n",
       "#sk-container-id-1 div.sk-toggleable__content.fitted {\n",
       "  /* fitted */\n",
       "  background-color: var(--sklearn-color-fitted-level-0);\n",
       "}\n",
       "\n",
       "#sk-container-id-1 div.sk-toggleable__content pre {\n",
       "  margin: 0.2em;\n",
       "  border-radius: 0.25em;\n",
       "  color: var(--sklearn-color-text);\n",
       "  /* unfitted */\n",
       "  background-color: var(--sklearn-color-unfitted-level-0);\n",
       "}\n",
       "\n",
       "#sk-container-id-1 div.sk-toggleable__content.fitted pre {\n",
       "  /* unfitted */\n",
       "  background-color: var(--sklearn-color-fitted-level-0);\n",
       "}\n",
       "\n",
       "#sk-container-id-1 input.sk-toggleable__control:checked~div.sk-toggleable__content {\n",
       "  /* Expand drop-down */\n",
       "  max-height: 200px;\n",
       "  max-width: 100%;\n",
       "  overflow: auto;\n",
       "}\n",
       "\n",
       "#sk-container-id-1 input.sk-toggleable__control:checked~label.sk-toggleable__label-arrow:before {\n",
       "  content: \"▾\";\n",
       "}\n",
       "\n",
       "/* Pipeline/ColumnTransformer-specific style */\n",
       "\n",
       "#sk-container-id-1 div.sk-label input.sk-toggleable__control:checked~label.sk-toggleable__label {\n",
       "  color: var(--sklearn-color-text);\n",
       "  background-color: var(--sklearn-color-unfitted-level-2);\n",
       "}\n",
       "\n",
       "#sk-container-id-1 div.sk-label.fitted input.sk-toggleable__control:checked~label.sk-toggleable__label {\n",
       "  background-color: var(--sklearn-color-fitted-level-2);\n",
       "}\n",
       "\n",
       "/* Estimator-specific style */\n",
       "\n",
       "/* Colorize estimator box */\n",
       "#sk-container-id-1 div.sk-estimator input.sk-toggleable__control:checked~label.sk-toggleable__label {\n",
       "  /* unfitted */\n",
       "  background-color: var(--sklearn-color-unfitted-level-2);\n",
       "}\n",
       "\n",
       "#sk-container-id-1 div.sk-estimator.fitted input.sk-toggleable__control:checked~label.sk-toggleable__label {\n",
       "  /* fitted */\n",
       "  background-color: var(--sklearn-color-fitted-level-2);\n",
       "}\n",
       "\n",
       "#sk-container-id-1 div.sk-label label.sk-toggleable__label,\n",
       "#sk-container-id-1 div.sk-label label {\n",
       "  /* The background is the default theme color */\n",
       "  color: var(--sklearn-color-text-on-default-background);\n",
       "}\n",
       "\n",
       "/* On hover, darken the color of the background */\n",
       "#sk-container-id-1 div.sk-label:hover label.sk-toggleable__label {\n",
       "  color: var(--sklearn-color-text);\n",
       "  background-color: var(--sklearn-color-unfitted-level-2);\n",
       "}\n",
       "\n",
       "/* Label box, darken color on hover, fitted */\n",
       "#sk-container-id-1 div.sk-label.fitted:hover label.sk-toggleable__label.fitted {\n",
       "  color: var(--sklearn-color-text);\n",
       "  background-color: var(--sklearn-color-fitted-level-2);\n",
       "}\n",
       "\n",
       "/* Estimator label */\n",
       "\n",
       "#sk-container-id-1 div.sk-label label {\n",
       "  font-family: monospace;\n",
       "  font-weight: bold;\n",
       "  display: inline-block;\n",
       "  line-height: 1.2em;\n",
       "}\n",
       "\n",
       "#sk-container-id-1 div.sk-label-container {\n",
       "  text-align: center;\n",
       "}\n",
       "\n",
       "/* Estimator-specific */\n",
       "#sk-container-id-1 div.sk-estimator {\n",
       "  font-family: monospace;\n",
       "  border: 1px dotted var(--sklearn-color-border-box);\n",
       "  border-radius: 0.25em;\n",
       "  box-sizing: border-box;\n",
       "  margin-bottom: 0.5em;\n",
       "  /* unfitted */\n",
       "  background-color: var(--sklearn-color-unfitted-level-0);\n",
       "}\n",
       "\n",
       "#sk-container-id-1 div.sk-estimator.fitted {\n",
       "  /* fitted */\n",
       "  background-color: var(--sklearn-color-fitted-level-0);\n",
       "}\n",
       "\n",
       "/* on hover */\n",
       "#sk-container-id-1 div.sk-estimator:hover {\n",
       "  /* unfitted */\n",
       "  background-color: var(--sklearn-color-unfitted-level-2);\n",
       "}\n",
       "\n",
       "#sk-container-id-1 div.sk-estimator.fitted:hover {\n",
       "  /* fitted */\n",
       "  background-color: var(--sklearn-color-fitted-level-2);\n",
       "}\n",
       "\n",
       "/* Specification for estimator info (e.g. \"i\" and \"?\") */\n",
       "\n",
       "/* Common style for \"i\" and \"?\" */\n",
       "\n",
       ".sk-estimator-doc-link,\n",
       "a:link.sk-estimator-doc-link,\n",
       "a:visited.sk-estimator-doc-link {\n",
       "  float: right;\n",
       "  font-size: smaller;\n",
       "  line-height: 1em;\n",
       "  font-family: monospace;\n",
       "  background-color: var(--sklearn-color-background);\n",
       "  border-radius: 1em;\n",
       "  height: 1em;\n",
       "  width: 1em;\n",
       "  text-decoration: none !important;\n",
       "  margin-left: 1ex;\n",
       "  /* unfitted */\n",
       "  border: var(--sklearn-color-unfitted-level-1) 1pt solid;\n",
       "  color: var(--sklearn-color-unfitted-level-1);\n",
       "}\n",
       "\n",
       ".sk-estimator-doc-link.fitted,\n",
       "a:link.sk-estimator-doc-link.fitted,\n",
       "a:visited.sk-estimator-doc-link.fitted {\n",
       "  /* fitted */\n",
       "  border: var(--sklearn-color-fitted-level-1) 1pt solid;\n",
       "  color: var(--sklearn-color-fitted-level-1);\n",
       "}\n",
       "\n",
       "/* On hover */\n",
       "div.sk-estimator:hover .sk-estimator-doc-link:hover,\n",
       ".sk-estimator-doc-link:hover,\n",
       "div.sk-label-container:hover .sk-estimator-doc-link:hover,\n",
       ".sk-estimator-doc-link:hover {\n",
       "  /* unfitted */\n",
       "  background-color: var(--sklearn-color-unfitted-level-3);\n",
       "  color: var(--sklearn-color-background);\n",
       "  text-decoration: none;\n",
       "}\n",
       "\n",
       "div.sk-estimator.fitted:hover .sk-estimator-doc-link.fitted:hover,\n",
       ".sk-estimator-doc-link.fitted:hover,\n",
       "div.sk-label-container:hover .sk-estimator-doc-link.fitted:hover,\n",
       ".sk-estimator-doc-link.fitted:hover {\n",
       "  /* fitted */\n",
       "  background-color: var(--sklearn-color-fitted-level-3);\n",
       "  color: var(--sklearn-color-background);\n",
       "  text-decoration: none;\n",
       "}\n",
       "\n",
       "/* Span, style for the box shown on hovering the info icon */\n",
       ".sk-estimator-doc-link span {\n",
       "  display: none;\n",
       "  z-index: 9999;\n",
       "  position: relative;\n",
       "  font-weight: normal;\n",
       "  right: .2ex;\n",
       "  padding: .5ex;\n",
       "  margin: .5ex;\n",
       "  width: min-content;\n",
       "  min-width: 20ex;\n",
       "  max-width: 50ex;\n",
       "  color: var(--sklearn-color-text);\n",
       "  box-shadow: 2pt 2pt 4pt #999;\n",
       "  /* unfitted */\n",
       "  background: var(--sklearn-color-unfitted-level-0);\n",
       "  border: .5pt solid var(--sklearn-color-unfitted-level-3);\n",
       "}\n",
       "\n",
       ".sk-estimator-doc-link.fitted span {\n",
       "  /* fitted */\n",
       "  background: var(--sklearn-color-fitted-level-0);\n",
       "  border: var(--sklearn-color-fitted-level-3);\n",
       "}\n",
       "\n",
       ".sk-estimator-doc-link:hover span {\n",
       "  display: block;\n",
       "}\n",
       "\n",
       "/* \"?\"-specific style due to the `<a>` HTML tag */\n",
       "\n",
       "#sk-container-id-1 a.estimator_doc_link {\n",
       "  float: right;\n",
       "  font-size: 1rem;\n",
       "  line-height: 1em;\n",
       "  font-family: monospace;\n",
       "  background-color: var(--sklearn-color-background);\n",
       "  border-radius: 1rem;\n",
       "  height: 1rem;\n",
       "  width: 1rem;\n",
       "  text-decoration: none;\n",
       "  /* unfitted */\n",
       "  color: var(--sklearn-color-unfitted-level-1);\n",
       "  border: var(--sklearn-color-unfitted-level-1) 1pt solid;\n",
       "}\n",
       "\n",
       "#sk-container-id-1 a.estimator_doc_link.fitted {\n",
       "  /* fitted */\n",
       "  border: var(--sklearn-color-fitted-level-1) 1pt solid;\n",
       "  color: var(--sklearn-color-fitted-level-1);\n",
       "}\n",
       "\n",
       "/* On hover */\n",
       "#sk-container-id-1 a.estimator_doc_link:hover {\n",
       "  /* unfitted */\n",
       "  background-color: var(--sklearn-color-unfitted-level-3);\n",
       "  color: var(--sklearn-color-background);\n",
       "  text-decoration: none;\n",
       "}\n",
       "\n",
       "#sk-container-id-1 a.estimator_doc_link.fitted:hover {\n",
       "  /* fitted */\n",
       "  background-color: var(--sklearn-color-fitted-level-3);\n",
       "}\n",
       "</style><div id=\"sk-container-id-1\" class=\"sk-top-container\"><div class=\"sk-text-repr-fallback\"><pre>KMeans(n_clusters=5, random_state=0)</pre><b>In a Jupyter environment, please rerun this cell to show the HTML representation or trust the notebook. <br />On GitHub, the HTML representation is unable to render, please try loading this page with nbviewer.org.</b></div><div class=\"sk-container\" hidden><div class=\"sk-item\"><div class=\"sk-estimator fitted sk-toggleable\"><input class=\"sk-toggleable__control sk-hidden--visually\" id=\"sk-estimator-id-1\" type=\"checkbox\" checked><label for=\"sk-estimator-id-1\" class=\"sk-toggleable__label fitted sk-toggleable__label-arrow fitted\">&nbsp;&nbsp;KMeans<a class=\"sk-estimator-doc-link fitted\" rel=\"noreferrer\" target=\"_blank\" href=\"https://scikit-learn.org/1.5/modules/generated/sklearn.cluster.KMeans.html\">?<span>Documentation for KMeans</span></a><span class=\"sk-estimator-doc-link fitted\">i<span>Fitted</span></span></label><div class=\"sk-toggleable__content fitted\"><pre>KMeans(n_clusters=5, random_state=0)</pre></div> </div></div></div></div>"
      ],
      "text/plain": [
       "KMeans(n_clusters=5, random_state=0)"
      ]
     },
     "execution_count": 34,
     "metadata": {},
     "output_type": "execute_result"
    },
    {
     "data": {
      "application/vnd.plotly.v1+json": {
       "config": {
        "plotlyServerURL": "https://plot.ly"
       },
       "data": [
        {
         "hovertemplate": "color=Cluster n. 3<br>x=%{x}<br>y=%{y}<br>z=%{z}<br>point_size=%{marker.size}<extra></extra>",
         "legendgroup": "Cluster n. 3",
         "marker": {
          "color": "#636efa",
          "opacity": 0.8,
          "size": [
           5,
           5,
           5,
           5,
           5,
           5,
           5,
           5,
           5,
           5,
           5,
           5,
           5,
           5,
           5,
           5,
           5,
           5,
           5,
           5,
           5,
           5,
           5,
           5,
           5,
           5,
           5,
           5,
           5,
           5,
           5,
           5,
           5
          ],
          "sizemode": "area",
          "sizeref": 0.0125,
          "symbol": "circle"
         },
         "mode": "markers",
         "name": "Cluster n. 3",
         "scene": "scene",
         "showlegend": true,
         "type": "scatter3d",
         "x": [
          1352.2666195513052,
          3239.9996163205337,
          2971.896333447631,
          1434.8036566769704,
          848.6650030008087,
          710.6392857047288,
          3133.9831796587723,
          2794.0746648167237,
          659.3204696427146,
          2747.609344008524,
          758.2332889271771,
          2990.7182766791293,
          3000.358138849914,
          793.0758271364706,
          2339.844123054351,
          889.4713806792272,
          1413.9571746166037,
          1371.0801830569796,
          1847.8594967936942,
          2105.6857124942194,
          2823.924414432731,
          2463.909333910368,
          3079.461992361411,
          629.3462048627528,
          863.1970898913607,
          919.1551209841292,
          536.6959819845717,
          665.0503578531504,
          713.3200969576709,
          882.7738773064026,
          2321.356494695634,
          3068.2636707106512,
          1488.2646852902851
         ],
         "y": [
          2310.296075282167,
          3186.1168834208165,
          1999.8025045244874,
          2193.1335159513183,
          1672.9690239692638,
          1567.6775438767022,
          3517.336280430348,
          2277.3162984793057,
          1908.1714126482098,
          2200.4224291463347,
          1412.0696379222638,
          2042.3824798637602,
          2449.4777021013897,
          1770.7168141026982,
          2462.659665764331,
          1678.8075283008125,
          2285.2782147018315,
          2010.068362586135,
          2420.1603125283245,
          1843.0527745262539,
          1838.2219477551344,
          1845.3595298201267,
          2919.804702508784,
          1677.7388840130936,
          1484.2248612991677,
          1769.8883232611265,
          1651.1409612091957,
          1548.2024337902353,
          1489.0970084657567,
          1489.7486754327342,
          2559.949529936674,
          2698.905434624965,
          1850.4712517242776
         ],
         "z": [
          1335.4621744353092,
          420.45214528264836,
          -893.9767578283144,
          897.6717055576714,
          1010.6977447456743,
          1121.194888152254,
          943.6981123369059,
          60.40614772152442,
          1960.2552065743623,
          -321.01638629943017,
          406.4094953110141,
          -940.7393477017757,
          -993.965191172394,
          1197.837682757732,
          -166.58560526834714,
          968.8448959772767,
          1208.9479689041034,
          881.7970153612747,
          1290.5433538341977,
          -234.07184896423243,
          -1064.1100032090621,
          -959.6005713040489,
          482.8274741950757,
          1459.1510142312077,
          415.11932857228425,
          1077.3499415274987,
          1436.9953913145007,
          1035.326678165953,
          744.5867683591524,
          398.53584246277586,
          87.92935373131519,
          -103.28879197551673,
          459.11428728380986
         ]
        },
        {
         "hovertemplate": "color=Cluster n. 5<br>x=%{x}<br>y=%{y}<br>z=%{z}<br>point_size=%{marker.size}<extra></extra>",
         "legendgroup": "Cluster n. 5",
         "marker": {
          "color": "#EF553B",
          "opacity": 0.8,
          "size": [
           5,
           5,
           5,
           5,
           5,
           5,
           5,
           5,
           5,
           5,
           5,
           5,
           5,
           5,
           5,
           5,
           5,
           5,
           5,
           5,
           5,
           5,
           5,
           5,
           5,
           5,
           5,
           5,
           5,
           5,
           5,
           5,
           5,
           5,
           5,
           5,
           5,
           5,
           5,
           5,
           5,
           5,
           5,
           5,
           5,
           5,
           5,
           5,
           5,
           5,
           5,
           5,
           5,
           5,
           5,
           5,
           5,
           5,
           5,
           5,
           5,
           5,
           5,
           5,
           5,
           5,
           5,
           5,
           5,
           5,
           5,
           5,
           5,
           5,
           5,
           5,
           5,
           5,
           5,
           5,
           5,
           5,
           5,
           5,
           5,
           5,
           5,
           5,
           5,
           5,
           5,
           5,
           5,
           5,
           5,
           5,
           5,
           5,
           5,
           5,
           5,
           5,
           5,
           5,
           5,
           5,
           5,
           5,
           5,
           5
          ],
          "sizemode": "area",
          "sizeref": 0.0125,
          "symbol": "circle"
         },
         "mode": "markers",
         "name": "Cluster n. 5",
         "scene": "scene",
         "showlegend": true,
         "type": "scatter3d",
         "x": [
          -604.6889547164476,
          -544.8481738708964,
          -628.836638719258,
          -646.5874089213603,
          -914.3881066023214,
          -608.5444893509498,
          -848.148103763481,
          -567.0700164897216,
          -886.1215871331657,
          272.8951483633552,
          -765.1575832687696,
          -755.9087837454207,
          -652.9634099882112,
          -399.62825676932687,
          -742.8381026309039,
          -828.3730415302824,
          -158.4649505072371,
          -748.0005716904761,
          -295.5068820595875,
          -611.8471291180172,
          165.56502876701103,
          -790.1254952082032,
          -760.2798287792708,
          -24.3337373109307,
          -35.94966313513587,
          -124.9499952552563,
          -224.31506575735827,
          -894.7687423183278,
          -901.5540813053013,
          154.75969045288437,
          -615.4169661377133,
          -517.0509978720934,
          -762.6419323209831,
          -767.2690839035122,
          146.5023695547757,
          -705.1000058212421,
          -386.5138741081024,
          -782.4956201100239,
          -768.7689123069952,
          -714.240172287368,
          -522.6228589474046,
          -918.0085954311621,
          -310.7560541177054,
          -522.5832978609109,
          -730.6798171538792,
          -313.23586742486776,
          -464.3966015370982,
          -518.214856928952,
          -516.5238069517558,
          -663.343861146547,
          -629.6686234922514,
          -971.3736745893616,
          -363.1338012539675,
          394.75182912541635,
          -159.9197342913141,
          -636.4320335124626,
          -771.7471211454514,
          -530.938762923929,
          -880.7060303982469,
          -525.9040502775833,
          -619.9257522349777,
          -825.6349525625403,
          276.8576030706079,
          -912.5424332360118,
          -310.5642059013144,
          246.44432808855188,
          -616.4501932454137,
          -503.6101058964324,
          -523.8845488012466,
          -421.685908588456,
          -629.546437656831,
          -286.8743633452374,
          -61.015833063518684,
          -404.4921508456459,
          -108.00404314676207,
          470.7922761609925,
          -614.5439897115153,
          -642.2873344038989,
          167.10746122149402,
          488.5727191071418,
          -629.0605954983555,
          -756.6396724867334,
          -218.71961979610597,
          -428.006741437866,
          -19.043892375931144,
          -730.7500316211929,
          -925.8044057877336,
          -603.3049175187548,
          -878.3866919877755,
          -703.2077577378755,
          -617.4464689899625,
          -667.2831283360412,
          -668.805833463129,
          -575.895830283947,
          -382.443137075742,
          -54.6793767642823,
          -631.342518163912,
          -831.0116136085134,
          -588.4986561682485,
          129.53747711805426,
          -725.929530315234,
          -52.884151938978604,
          227.4858926985613,
          -676.4470501369498,
          -456.94640595335204,
          -522.1606840980658,
          -36.3975432158097,
          -460.97994555694896,
          -401.29352450860273,
          -942.3891748665619
         ],
         "y": [
          296.62519836028525,
          440.6850046829855,
          399.33155476569766,
          243.2520723860641,
          -275.02267260042413,
          328.2296495977713,
          -163.8444235684208,
          491.238081463878,
          -80.03090990708824,
          1294.600461638582,
          75.61032476980157,
          43.968570106029425,
          426.23180404759006,
          422.75133273483704,
          74.29022719187685,
          -89.57823180805825,
          736.1418762155629,
          102.82702484404238,
          760.0245304799198,
          300.661043465202,
          1242.3499514411224,
          33.165716390521126,
          187.12782709108532,
          1064.922873771735,
          1210.6677602512254,
          948.1338704623371,
          621.9321633274556,
          -263.2863402125676,
          -181.27456118632364,
          1581.6753188854652,
          344.95702845058986,
          392.83949374677275,
          114.9807186899316,
          54.639633000409916,
          763.6447780952933,
          245.20420522669355,
          621.0363208472445,
          192.72421642222685,
          44.822460988845386,
          211.87488528835416,
          510.63083970680725,
          -86.52811804307487,
          621.2672485136786,
          611.0221299571955,
          -93.59608070592083,
          807.1050693252724,
          553.6064110220376,
          462.6713901523848,
          212.95139903409824,
          148.76322506043212,
          325.3107825460191,
          -154.8979753443162,
          448.25148322238437,
          1563.4510630071031,
          981.4787736195619,
          171.05734653427373,
          -71.53386539619953,
          278.5735276684306,
          -223.90117265867158,
          433.1035631184642,
          134.7007296416396,
          -85.7125140862733,
          1423.5945678374064,
          -35.11372688662479,
          765.5905090975033,
          1170.7128464512757,
          297.085697146132,
          264.7915099342948,
          477.8218344857192,
          631.2470034463373,
          251.9434261754901,
          489.7991684428784,
          877.6065506498653,
          281.2280736382609,
          987.5329674845643,
          1005.4947366497379,
          40.445817064997364,
          93.04202400243206,
          776.1640149602599,
          1096.2803483429914,
          273.32484797335087,
          114.72887996697197,
          900.3994821449792,
          479.197698236299,
          886.8433542268194,
          108.0481547577135,
          -106.7872476526802,
          478.0981049315944,
          -167.07519567799912,
          52.614182896089446,
          382.03413787677715,
          95.5377772767081,
          441.4249612326817,
          467.6595619831074,
          499.8215523931995,
          699.1005077803923,
          267.64991586626087,
          -82.71072942814861,
          499.2170879817673,
          1349.6187120732113,
          108.98016784188431,
          906.5596176093952,
          1232.908734202532,
          162.23342057693637,
          401.3603514998449,
          616.1260604338263,
          859.7369244668853,
          412.51112428759865,
          508.5409090275246,
          -267.6111777747222
         ],
         "z": [
          427.84022910099156,
          801.5970166364641,
          706.3624581661425,
          713.9066441488,
          401.115593206686,
          486.70819813082295,
          274.7041299188011,
          902.039332506928,
          174.49708003108074,
          1338.4101160373075,
          148.3588530379569,
          280.6060502841594,
          879.4010951859726,
          888.2465917922037,
          630.1950548687688,
          218.88907480268145,
          727.4260552184359,
          232.79705932730002,
          1191.1026531776392,
          664.6491643462155,
          1028.8555835656066,
          423.7475620774501,
          414.6057383340155,
          1017.6646549033441,
          1536.9526679729245,
          967.5612070284487,
          825.9122165067342,
          447.16228499549914,
          554.5473359785411,
          2150.516173138869,
          660.2473687267985,
          654.4169704749064,
          414.1986561740716,
          339.9844000354667,
          450.95637136914877,
          830.5734375139679,
          856.9652988326619,
          630.3050125777023,
          194.8358621755693,
          566.3176236689442,
          1060.6672166289272,
          308.21226285028405,
          768.1179679874299,
          905.6835454902498,
          146.26146847735058,
          1058.651947460681,
          1120.5030568771558,
          970.0609290281366,
          607.3952930741376,
          351.9872060732111,
          565.3920893427055,
          391.3356958762817,
          807.325684710472,
          1209.1714922826338,
          1162.6600547448581,
          255.30534037380994,
          117.0492255613455,
          710.9749010641906,
          542.940197835649,
          830.3350118748841,
          667.0002254126568,
          211.2026227393716,
          1369.0192308088187,
          630.9502852549846,
          858.3859202527352,
          1029.2955935331493,
          629.2629833693342,
          457.1439411111819,
          901.9887081480553,
          1078.1961122564726,
          567.2949866024305,
          625.2026232881667,
          967.2385791224921,
          711.8975790788162,
          1295.6804905683111,
          374.29895388426587,
          180.38415757425233,
          354.67221913363386,
          446.4362711449638,
          154.3174322842713,
          580.2090635365488,
          543.9674816033479,
          1226.889156330263,
          805.4873598759987,
          892.214789155788,
          345.69469498754756,
          437.79084908061867,
          1048.0926160873653,
          158.25306132274392,
          284.76517797934474,
          856.4442474736629,
          468.193590237146,
          1335.0710871908805,
          669.5948019392332,
          656.1175862192384,
          540.78423150478,
          689.3473401053825,
          84.30562482711937,
          1175.361659437772,
          1531.0015422486842,
          171.74008718800465,
          1122.8453199921917,
          1461.043643718929,
          542.4004507610463,
          675.5858744780539,
          1044.783410923129,
          840.9362215705597,
          733.645019867451,
          819.5230521637644,
          342.5027783899234
         ]
        },
        {
         "hovertemplate": "color=Cluster n. 2<br>x=%{x}<br>y=%{y}<br>z=%{z}<br>point_size=%{marker.size}<extra></extra>",
         "legendgroup": "Cluster n. 2",
         "marker": {
          "color": "#00cc96",
          "opacity": 0.8,
          "size": [
           5,
           5,
           5,
           5,
           5,
           5,
           5
          ],
          "sizemode": "area",
          "sizeref": 0.0125,
          "symbol": "circle"
         },
         "mode": "markers",
         "name": "Cluster n. 2",
         "scene": "scene",
         "showlegend": true,
         "type": "scatter3d",
         "x": [
          9738.690704616889,
          10262.074463439507,
          7236.223917309265,
          7599.002250899488,
          8712.432141728921,
          9306.572406004405,
          7168.593345358475
         ],
         "y": [
          -6589.809433821074,
          -8324.255956929921,
          -2563.623446290567,
          -2465.5872213849148,
          -4880.463096673017,
          -6996.1598888468925,
          -2707.144275106745
         ],
         "z": [
          4446.365955135769,
          4716.187867563682,
          -498.71408785871637,
          -1473.79886585253,
          529.0882774530544,
          3931.1567380534543,
          198.7662752726645
         ]
        },
        {
         "hovertemplate": "color=Cluster n. 1<br>x=%{x}<br>y=%{y}<br>z=%{z}<br>point_size=%{marker.size}<extra></extra>",
         "legendgroup": "Cluster n. 1",
         "marker": {
          "color": "#ab63fa",
          "opacity": 0.8,
          "size": [
           5,
           5,
           5,
           5,
           5,
           5,
           5,
           5,
           5,
           5,
           5,
           5,
           5,
           5,
           5,
           5,
           5,
           5,
           5,
           5,
           5,
           5,
           5,
           5,
           5,
           5,
           5,
           5,
           5,
           5,
           5,
           5,
           5,
           5,
           5,
           5,
           5,
           5,
           5,
           5,
           5,
           5,
           5,
           5,
           5,
           5,
           5,
           5,
           5,
           5,
           5,
           5,
           5,
           5,
           5,
           5,
           5,
           5,
           5,
           5,
           5,
           5,
           5,
           5,
           5,
           5,
           5,
           5,
           5,
           5,
           5,
           5,
           5,
           5,
           5,
           5,
           5,
           5,
           5,
           5,
           5,
           5,
           5,
           5,
           5,
           5,
           5,
           5,
           5,
           5,
           5,
           5,
           5,
           5,
           5,
           5,
           5,
           5,
           5,
           5,
           5,
           5,
           5,
           5,
           5,
           5,
           5,
           5,
           5,
           5,
           5,
           5,
           5,
           5,
           5,
           5,
           5,
           5,
           5,
           5,
           5,
           5,
           5,
           5,
           5,
           5,
           5,
           5,
           5
          ],
          "sizemode": "area",
          "sizeref": 0.0125,
          "symbol": "circle"
         },
         "mode": "markers",
         "name": "Cluster n. 1",
         "scene": "scene",
         "showlegend": true,
         "type": "scatter3d",
         "x": [
          -1259.791673461644,
          -1098.577308965326,
          -1225.5263158246687,
          -1272.286773020919,
          -1204.901104048485,
          -1186.346158776411,
          -1254.0857279231734,
          -1222.9142584453255,
          -1151.9804757746447,
          -1106.1779095029615,
          -1272.286773020919,
          -1249.41297495335,
          -1214.970719625581,
          -1274.3550721922254,
          -1241.8027088238932,
          -1260.6846374373404,
          -1117.790874727347,
          -1106.0351671142005,
          -1270.7592651048233,
          -1005.6633195421019,
          -1225.0437501338438,
          -1284.4711451797912,
          -1272.286773020919,
          -1217.7033943618808,
          -1273.718783189361,
          -1012.2408967557081,
          -1283.4367673814613,
          -1259.2623671591948,
          -1272.1706224159827,
          -1171.2462976861807,
          -1029.6798984108962,
          -1238.3403133991087,
          -1268.6360332011986,
          -1272.9149448848227,
          -1171.4800266595857,
          -1249.0713725581488,
          -1041.854546573168,
          -1152.1814779616489,
          -1280.5611953650887,
          -1005.9877925015412,
          -1101.6337208717794,
          -1247.0508484363686,
          -1016.4133558747867,
          -1270.995146216197,
          -1272.286773020919,
          -1218.9161073552357,
          -1287.4116806026257,
          -1280.84706433739,
          -1257.9550020184383,
          -1279.4319364623086,
          -1225.7820213208645,
          -1031.1879182791065,
          -1229.2607425106848,
          -1165.5528514923708,
          -1272.286773020919,
          -1076.3378235127568,
          -1236.2484057667098,
          -1255.4324864349003,
          -1260.3082029960185,
          -1268.4351851306774,
          -1267.2770475377065,
          -1167.1763633270527,
          -1237.293945856968,
          -964.3870603997593,
          -1221.3113105470807,
          -1221.5040637544275,
          -1239.646743002412,
          -1272.286773020919,
          -847.119529754307,
          -1287.450172675963,
          -1097.0398804473275,
          -974.310457601042,
          -1118.0972962920878,
          -1268.1544499077725,
          -1254.6366714078265,
          -1103.4746608672826,
          -1272.286773020919,
          -1252.7108048335713,
          -1117.1272847756936,
          -1206.7442563530833,
          -1272.1114919445727,
          -1097.9446494709584,
          -1184.904515090157,
          -859.09332649579,
          -1199.6269019135088,
          -1265.276529253635,
          -1201.177143351206,
          -1201.678820695175,
          -956.730487452488,
          -1123.3985882940844,
          -1214.3138924084349,
          -1246.829385456431,
          -1158.4653574098813,
          -1265.397924972278,
          -1272.286773020919,
          -1242.1985429233143,
          -1051.2956720867508,
          -1069.2633797105666,
          -996.5346998762635,
          -1174.5393324881886,
          -1272.286773020919,
          -1273.577837113089,
          -1153.305346956277,
          -1272.286773020919,
          -972.8326059307825,
          -882.8966916784622,
          -1234.9742535425496,
          -1064.494284738407,
          -1216.9968052556567,
          -922.5775100171973,
          -1267.2988317647564,
          -1219.203007213196,
          -1272.286773020919,
          -1285.0982126029035,
          -1272.1666708883067,
          -1150.2010160465995,
          -957.1121505893904,
          -1276.9235906962322,
          -1250.1085497615682,
          -1228.3653416962904,
          -1262.882011803215,
          -962.8092985386196,
          -1284.102281989725,
          -941.6615697734518,
          -1251.4813653381368,
          -1234.7517799273053,
          -986.6363140974767,
          -1287.0001194474107,
          -1243.813210253371
         ],
         "y": [
          -891.98482491634,
          -637.0260926282223,
          -800.4800890409432,
          -990.2066283153114,
          -729.2070636759898,
          -677.9464936380252,
          -971.1805483717909,
          -846.2457833859565,
          -675.5557001629163,
          -527.5681882687483,
          -990.2066283153114,
          -842.2552914481676,
          -921.736768525912,
          -992.0376468206083,
          -874.668696113771,
          -962.2155576737239,
          -745.66184525037,
          -598.6136311814123,
          -991.6509255340239,
          -355.93325971200943,
          -844.7463247785827,
          -1000.4453383893153,
          -990.2066283153114,
          -859.5171821373926,
          -991.5088129844721,
          -257.10017334038173,
          -1000.5840433900024,
          -948.1263086218568,
          -993.9113844473584,
          -702.6238280834621,
          -364.19766588493377,
          -887.9194075306935,
          -918.6524127695182,
          -991.8391244475271,
          -820.1202759417621,
          -1020.8023019187553,
          -342.76791556289874,
          -634.2661183022832,
          -997.1956927875541,
          -392.10875832067126,
          -408.45988294124925,
          -888.5543525860501,
          -500.56199845885817,
          -986.4218653512323,
          -990.2066283153114,
          -694.1263733482492,
          -919.1422970960266,
          -997.4332848008903,
          -924.4338926352572,
          -997.1435306008151,
          -1017.9693541565083,
          -463.0886298786841,
          -912.3471621220679,
          -682.8531826789715,
          -990.2066283153114,
          -591.2028342635939,
          -1023.3059564843242,
          -914.614637694411,
          -942.884453351136,
          -964.6211813853139,
          -958.9518537147474,
          -880.334419687195,
          -819.180395953198,
          -275.8881607349198,
          -826.4299976238116,
          -786.1112173286817,
          -953.535585983654,
          -990.2066283153114,
          -165.55482775360784,
          -911.2067254295526,
          -732.1086401796566,
          -244.30744214643292,
          -668.4959165364775,
          -902.2817030154841,
          -930.4070832318149,
          -604.1563148481648,
          -990.2066283153114,
          -894.0772903623684,
          -549.046910552643,
          -812.7201785218252,
          -983.3543792183199,
          -528.6814866925234,
          -725.6449627304605,
          -215.8672096774232,
          -764.0268540143428,
          -996.4115857885147,
          -734.5323509753969,
          -788.4247124655715,
          -359.88337294687875,
          -638.8768773187805,
          -869.7792198057023,
          -992.2637747029828,
          -781.0653188351413,
          -885.2495225960216,
          -990.2066283153114,
          -1007.4174971110153,
          -427.8935499475359,
          -626.5426588161904,
          -327.26453585873116,
          -716.3758748790864,
          -990.2066283153114,
          -973.1201882567332,
          -789.2188290303061,
          -990.2066283153114,
          -306.99045797849715,
          -299.2289024170909,
          -805.6333010727806,
          -387.4213051153884,
          -952.4646333191548,
          -225.9777958889499,
          -972.2118684862496,
          -764.5534162959174,
          -990.2066283153114,
          -1000.966507966956,
          -923.797226801176,
          -762.1221947111381,
          -409.13825113285026,
          -970.6382677669817,
          -838.4982044967454,
          -922.6384973129036,
          -996.1015905830959,
          -517.0305709025201,
          -1000.1387680495262,
          -310.51194947617716,
          -876.1786055803854,
          -870.2865789669592,
          -216.22807107606462,
          -921.5992210411332,
          -759.4210575297444
         ],
         "z": [
          -678.7638767750785,
          -349.25289078564055,
          -582.4774674775113,
          -886.6947467072573,
          -423.8513042239608,
          -393.3920136873033,
          -776.295353158109,
          -603.2337631174063,
          -296.04032322548727,
          -157.68998587753552,
          -886.6947467072573,
          -616.856905824371,
          -590.775226497819,
          -872.8825386823825,
          -708.5059578605657,
          -748.5075851087583,
          -275.9472616645072,
          -61.78235267015285,
          -870.1138438790293,
          52.876777280352435,
          -606.9345716959804,
          -808.4703207242582,
          -886.6947467072573,
          -576.9627155765743,
          -876.9339908602406,
          141.7323378921593,
          -808.5932830031404,
          -800.630140349775,
          -835.4220764634086,
          -315.9954013096695,
          67.1824475581798,
          -687.2754295169543,
          -632.7097662071917,
          -875.5890356833775,
          -595.3097760481825,
          -747.51411381715,
          97.81490116657149,
          -194.49716918566645,
          -833.3662007737065,
          17.457294686084673,
          12.828735646098663,
          -647.0447008800339,
          -141.06258716228032,
          -866.3185366423189,
          -886.6947467072573,
          -406.56251105907097,
          -725.1573299388707,
          -831.5459831285815,
          -810.6983911067517,
          -834.7359976562796,
          -735.93848760798,
          -25.100734427906538,
          -633.3232674320674,
          -286.2814570103272,
          -886.6947467072573,
          -329.7180504665991,
          -753.6451049319311,
          -738.2133804170743,
          -669.1007754477994,
          -736.6540352881245,
          -813.820288867082,
          -489.610333643939,
          -676.8005661137771,
          227.7504430328405,
          -639.234448111124,
          -425.79233023438394,
          -758.7245921259251,
          -886.6947467072573,
          56.628074004180334,
          -699.2896842295345,
          -272.47022649255786,
          242.68942955068144,
          -271.514432934104,
          -733.5486741402099,
          -740.8076319119074,
          -441.35888465304237,
          -886.6947467072573,
          -668.8155653949971,
          -261.394228090789,
          -381.4237252983782,
          -797.3073229217852,
          -77.97231552069385,
          -559.8417778801696,
          79.11663919203981,
          -499.8622217675965,
          -861.5622946314634,
          -323.10145116189403,
          -629.6834559611797,
          -93.06022685417797,
          -309.8617773547498,
          -683.8464941485045,
          -779.4379317557492,
          -563.4438602593863,
          -743.7785782747627,
          -886.6947467072573,
          -835.3003104482752,
          190.83290329345513,
          -54.157817380363255,
          232.77851352315125,
          -323.30633872363273,
          -886.6947467072573,
          -854.0691500592822,
          -453.07353707494894,
          -886.6947467072573,
          151.10660698414665,
          -78.8707039808253,
          -565.639399252783,
          81.3265661815502,
          -532.6884848512078,
          67.28139723780852,
          -821.5659100635556,
          -472.335022395768,
          -886.6947467072573,
          -804.4775852446297,
          -660.3828140804621,
          -454.5376499298683,
          -302.08095738887306,
          -735.9744464202662,
          -641.1783218886117,
          -712.8426765539032,
          -867.1684886432516,
          -43.90723193414495,
          -810.8189886534514,
          30.473823202087747,
          -726.4304338281332,
          -674.2391683682384,
          193.87513621175668,
          -728.6122795407904,
          -545.3394736722008
         ]
        },
        {
         "hovertemplate": "color=Cluster n. 4<br>x=%{x}<br>y=%{y}<br>z=%{z}<br>point_size=%{marker.size}<extra></extra>",
         "legendgroup": "Cluster n. 4",
         "marker": {
          "color": "#FFA15A",
          "opacity": 0.8,
          "size": [
           5,
           5,
           5,
           5,
           5,
           5,
           5,
           5,
           5,
           5,
           5,
           5,
           5,
           5,
           5,
           5,
           5,
           5
          ],
          "sizemode": "area",
          "sizeref": 0.0125,
          "symbol": "circle"
         },
         "mode": "markers",
         "name": "Cluster n. 4",
         "scene": "scene",
         "showlegend": true,
         "type": "scatter3d",
         "x": [
          3638.9061654664356,
          3399.858978045391,
          4416.604920270369,
          3766.418777064402,
          4036.7966320570313,
          4818.19478574522,
          3930.357023672621,
          7310.20868985919,
          6560.563864366085,
          3285.9133290961113,
          4190.6092741719285,
          3638.3210332845397,
          6681.84546047846,
          5830.964875644075,
          7239.425283798835,
          4984.922577086136,
          4008.020564609994,
          5415.298181537559
         ],
         "y": [
          2411.672238828527,
          2108.2776876278713,
          1106.0228071546785,
          2346.265595544545,
          2180.2040095727043,
          631.3884164143535,
          2338.570774264717,
          -1287.4355379887857,
          -1208.6381748972046,
          2116.9452893118596,
          2113.338584178176,
          2062.353476554084,
          351.66010027380685,
          -983.0160275381411,
          -820.362597900083,
          1288.32750325355,
          2304.5601709152484,
          941.2805823717138
         ],
         "z": [
          -2400.138800187282,
          -1400.4004630538457,
          -1808.139365365742,
          -1375.3522107850895,
          -2579.0155684162874,
          -2385.354761214366,
          -2642.5037894797565,
          -1348.2647236512173,
          -1372.3884637456633,
          -1302.1295531823669,
          -2739.340243529008,
          -1663.497708331087,
          -1949.6451100938946,
          -3551.500786723329,
          -1799.8179045522338,
          -2177.6044911604727,
          -2697.0425019138515,
          -2740.459356226676
         ]
        },
        {
         "marker": {
          "color": "black",
          "opacity": 0.5,
          "size": 10
         },
         "mode": "markers",
         "name": "Centers",
         "type": "scatter3d",
         "x": [
          -1182.7569426292005,
          8574.798461336704,
          1753.2806392835637,
          4841.8461342363535,
          -476.903955843655
         ],
         "y": [
          -773.5527591203928,
          -4932.434759864733,
          2061.535424362668,
          1111.1897165523121,
          420.7569576697655
         ],
         "z": [
          -512.24749357041,
          1692.7217371096253,
          473.44848827492115,
          -2107.366433422898,
          695.8151836305028
         ]
        }
       ],
       "layout": {
        "height": 800,
        "legend": {
         "itemsizing": "constant",
         "title": {
          "text": "color"
         },
         "tracegroupgap": 0
        },
        "scene": {
         "domain": {
          "x": [
           0,
           1
          ],
          "y": [
           0,
           1
          ]
         },
         "xaxis": {
          "title": {
           "text": "x"
          }
         },
         "yaxis": {
          "title": {
           "text": "y"
          }
         },
         "zaxis": {
          "title": {
           "text": "z"
          }
         }
        },
        "template": {
         "data": {
          "bar": [
           {
            "error_x": {
             "color": "#2a3f5f"
            },
            "error_y": {
             "color": "#2a3f5f"
            },
            "marker": {
             "line": {
              "color": "#E5ECF6",
              "width": 0.5
             },
             "pattern": {
              "fillmode": "overlay",
              "size": 10,
              "solidity": 0.2
             }
            },
            "type": "bar"
           }
          ],
          "barpolar": [
           {
            "marker": {
             "line": {
              "color": "#E5ECF6",
              "width": 0.5
             },
             "pattern": {
              "fillmode": "overlay",
              "size": 10,
              "solidity": 0.2
             }
            },
            "type": "barpolar"
           }
          ],
          "carpet": [
           {
            "aaxis": {
             "endlinecolor": "#2a3f5f",
             "gridcolor": "white",
             "linecolor": "white",
             "minorgridcolor": "white",
             "startlinecolor": "#2a3f5f"
            },
            "baxis": {
             "endlinecolor": "#2a3f5f",
             "gridcolor": "white",
             "linecolor": "white",
             "minorgridcolor": "white",
             "startlinecolor": "#2a3f5f"
            },
            "type": "carpet"
           }
          ],
          "choropleth": [
           {
            "colorbar": {
             "outlinewidth": 0,
             "ticks": ""
            },
            "type": "choropleth"
           }
          ],
          "contour": [
           {
            "colorbar": {
             "outlinewidth": 0,
             "ticks": ""
            },
            "colorscale": [
             [
              0,
              "#0d0887"
             ],
             [
              0.1111111111111111,
              "#46039f"
             ],
             [
              0.2222222222222222,
              "#7201a8"
             ],
             [
              0.3333333333333333,
              "#9c179e"
             ],
             [
              0.4444444444444444,
              "#bd3786"
             ],
             [
              0.5555555555555556,
              "#d8576b"
             ],
             [
              0.6666666666666666,
              "#ed7953"
             ],
             [
              0.7777777777777778,
              "#fb9f3a"
             ],
             [
              0.8888888888888888,
              "#fdca26"
             ],
             [
              1,
              "#f0f921"
             ]
            ],
            "type": "contour"
           }
          ],
          "contourcarpet": [
           {
            "colorbar": {
             "outlinewidth": 0,
             "ticks": ""
            },
            "type": "contourcarpet"
           }
          ],
          "heatmap": [
           {
            "colorbar": {
             "outlinewidth": 0,
             "ticks": ""
            },
            "colorscale": [
             [
              0,
              "#0d0887"
             ],
             [
              0.1111111111111111,
              "#46039f"
             ],
             [
              0.2222222222222222,
              "#7201a8"
             ],
             [
              0.3333333333333333,
              "#9c179e"
             ],
             [
              0.4444444444444444,
              "#bd3786"
             ],
             [
              0.5555555555555556,
              "#d8576b"
             ],
             [
              0.6666666666666666,
              "#ed7953"
             ],
             [
              0.7777777777777778,
              "#fb9f3a"
             ],
             [
              0.8888888888888888,
              "#fdca26"
             ],
             [
              1,
              "#f0f921"
             ]
            ],
            "type": "heatmap"
           }
          ],
          "heatmapgl": [
           {
            "colorbar": {
             "outlinewidth": 0,
             "ticks": ""
            },
            "colorscale": [
             [
              0,
              "#0d0887"
             ],
             [
              0.1111111111111111,
              "#46039f"
             ],
             [
              0.2222222222222222,
              "#7201a8"
             ],
             [
              0.3333333333333333,
              "#9c179e"
             ],
             [
              0.4444444444444444,
              "#bd3786"
             ],
             [
              0.5555555555555556,
              "#d8576b"
             ],
             [
              0.6666666666666666,
              "#ed7953"
             ],
             [
              0.7777777777777778,
              "#fb9f3a"
             ],
             [
              0.8888888888888888,
              "#fdca26"
             ],
             [
              1,
              "#f0f921"
             ]
            ],
            "type": "heatmapgl"
           }
          ],
          "histogram": [
           {
            "marker": {
             "pattern": {
              "fillmode": "overlay",
              "size": 10,
              "solidity": 0.2
             }
            },
            "type": "histogram"
           }
          ],
          "histogram2d": [
           {
            "colorbar": {
             "outlinewidth": 0,
             "ticks": ""
            },
            "colorscale": [
             [
              0,
              "#0d0887"
             ],
             [
              0.1111111111111111,
              "#46039f"
             ],
             [
              0.2222222222222222,
              "#7201a8"
             ],
             [
              0.3333333333333333,
              "#9c179e"
             ],
             [
              0.4444444444444444,
              "#bd3786"
             ],
             [
              0.5555555555555556,
              "#d8576b"
             ],
             [
              0.6666666666666666,
              "#ed7953"
             ],
             [
              0.7777777777777778,
              "#fb9f3a"
             ],
             [
              0.8888888888888888,
              "#fdca26"
             ],
             [
              1,
              "#f0f921"
             ]
            ],
            "type": "histogram2d"
           }
          ],
          "histogram2dcontour": [
           {
            "colorbar": {
             "outlinewidth": 0,
             "ticks": ""
            },
            "colorscale": [
             [
              0,
              "#0d0887"
             ],
             [
              0.1111111111111111,
              "#46039f"
             ],
             [
              0.2222222222222222,
              "#7201a8"
             ],
             [
              0.3333333333333333,
              "#9c179e"
             ],
             [
              0.4444444444444444,
              "#bd3786"
             ],
             [
              0.5555555555555556,
              "#d8576b"
             ],
             [
              0.6666666666666666,
              "#ed7953"
             ],
             [
              0.7777777777777778,
              "#fb9f3a"
             ],
             [
              0.8888888888888888,
              "#fdca26"
             ],
             [
              1,
              "#f0f921"
             ]
            ],
            "type": "histogram2dcontour"
           }
          ],
          "mesh3d": [
           {
            "colorbar": {
             "outlinewidth": 0,
             "ticks": ""
            },
            "type": "mesh3d"
           }
          ],
          "parcoords": [
           {
            "line": {
             "colorbar": {
              "outlinewidth": 0,
              "ticks": ""
             }
            },
            "type": "parcoords"
           }
          ],
          "pie": [
           {
            "automargin": true,
            "type": "pie"
           }
          ],
          "scatter": [
           {
            "fillpattern": {
             "fillmode": "overlay",
             "size": 10,
             "solidity": 0.2
            },
            "type": "scatter"
           }
          ],
          "scatter3d": [
           {
            "line": {
             "colorbar": {
              "outlinewidth": 0,
              "ticks": ""
             }
            },
            "marker": {
             "colorbar": {
              "outlinewidth": 0,
              "ticks": ""
             }
            },
            "type": "scatter3d"
           }
          ],
          "scattercarpet": [
           {
            "marker": {
             "colorbar": {
              "outlinewidth": 0,
              "ticks": ""
             }
            },
            "type": "scattercarpet"
           }
          ],
          "scattergeo": [
           {
            "marker": {
             "colorbar": {
              "outlinewidth": 0,
              "ticks": ""
             }
            },
            "type": "scattergeo"
           }
          ],
          "scattergl": [
           {
            "marker": {
             "colorbar": {
              "outlinewidth": 0,
              "ticks": ""
             }
            },
            "type": "scattergl"
           }
          ],
          "scattermapbox": [
           {
            "marker": {
             "colorbar": {
              "outlinewidth": 0,
              "ticks": ""
             }
            },
            "type": "scattermapbox"
           }
          ],
          "scatterpolar": [
           {
            "marker": {
             "colorbar": {
              "outlinewidth": 0,
              "ticks": ""
             }
            },
            "type": "scatterpolar"
           }
          ],
          "scatterpolargl": [
           {
            "marker": {
             "colorbar": {
              "outlinewidth": 0,
              "ticks": ""
             }
            },
            "type": "scatterpolargl"
           }
          ],
          "scatterternary": [
           {
            "marker": {
             "colorbar": {
              "outlinewidth": 0,
              "ticks": ""
             }
            },
            "type": "scatterternary"
           }
          ],
          "surface": [
           {
            "colorbar": {
             "outlinewidth": 0,
             "ticks": ""
            },
            "colorscale": [
             [
              0,
              "#0d0887"
             ],
             [
              0.1111111111111111,
              "#46039f"
             ],
             [
              0.2222222222222222,
              "#7201a8"
             ],
             [
              0.3333333333333333,
              "#9c179e"
             ],
             [
              0.4444444444444444,
              "#bd3786"
             ],
             [
              0.5555555555555556,
              "#d8576b"
             ],
             [
              0.6666666666666666,
              "#ed7953"
             ],
             [
              0.7777777777777778,
              "#fb9f3a"
             ],
             [
              0.8888888888888888,
              "#fdca26"
             ],
             [
              1,
              "#f0f921"
             ]
            ],
            "type": "surface"
           }
          ],
          "table": [
           {
            "cells": {
             "fill": {
              "color": "#EBF0F8"
             },
             "line": {
              "color": "white"
             }
            },
            "header": {
             "fill": {
              "color": "#C8D4E3"
             },
             "line": {
              "color": "white"
             }
            },
            "type": "table"
           }
          ]
         },
         "layout": {
          "annotationdefaults": {
           "arrowcolor": "#2a3f5f",
           "arrowhead": 0,
           "arrowwidth": 1
          },
          "autotypenumbers": "strict",
          "coloraxis": {
           "colorbar": {
            "outlinewidth": 0,
            "ticks": ""
           }
          },
          "colorscale": {
           "diverging": [
            [
             0,
             "#8e0152"
            ],
            [
             0.1,
             "#c51b7d"
            ],
            [
             0.2,
             "#de77ae"
            ],
            [
             0.3,
             "#f1b6da"
            ],
            [
             0.4,
             "#fde0ef"
            ],
            [
             0.5,
             "#f7f7f7"
            ],
            [
             0.6,
             "#e6f5d0"
            ],
            [
             0.7,
             "#b8e186"
            ],
            [
             0.8,
             "#7fbc41"
            ],
            [
             0.9,
             "#4d9221"
            ],
            [
             1,
             "#276419"
            ]
           ],
           "sequential": [
            [
             0,
             "#0d0887"
            ],
            [
             0.1111111111111111,
             "#46039f"
            ],
            [
             0.2222222222222222,
             "#7201a8"
            ],
            [
             0.3333333333333333,
             "#9c179e"
            ],
            [
             0.4444444444444444,
             "#bd3786"
            ],
            [
             0.5555555555555556,
             "#d8576b"
            ],
            [
             0.6666666666666666,
             "#ed7953"
            ],
            [
             0.7777777777777778,
             "#fb9f3a"
            ],
            [
             0.8888888888888888,
             "#fdca26"
            ],
            [
             1,
             "#f0f921"
            ]
           ],
           "sequentialminus": [
            [
             0,
             "#0d0887"
            ],
            [
             0.1111111111111111,
             "#46039f"
            ],
            [
             0.2222222222222222,
             "#7201a8"
            ],
            [
             0.3333333333333333,
             "#9c179e"
            ],
            [
             0.4444444444444444,
             "#bd3786"
            ],
            [
             0.5555555555555556,
             "#d8576b"
            ],
            [
             0.6666666666666666,
             "#ed7953"
            ],
            [
             0.7777777777777778,
             "#fb9f3a"
            ],
            [
             0.8888888888888888,
             "#fdca26"
            ],
            [
             1,
             "#f0f921"
            ]
           ]
          },
          "colorway": [
           "#636efa",
           "#EF553B",
           "#00cc96",
           "#ab63fa",
           "#FFA15A",
           "#19d3f3",
           "#FF6692",
           "#B6E880",
           "#FF97FF",
           "#FECB52"
          ],
          "font": {
           "color": "#2a3f5f"
          },
          "geo": {
           "bgcolor": "white",
           "lakecolor": "white",
           "landcolor": "#E5ECF6",
           "showlakes": true,
           "showland": true,
           "subunitcolor": "white"
          },
          "hoverlabel": {
           "align": "left"
          },
          "hovermode": "closest",
          "mapbox": {
           "style": "light"
          },
          "paper_bgcolor": "white",
          "plot_bgcolor": "#E5ECF6",
          "polar": {
           "angularaxis": {
            "gridcolor": "white",
            "linecolor": "white",
            "ticks": ""
           },
           "bgcolor": "#E5ECF6",
           "radialaxis": {
            "gridcolor": "white",
            "linecolor": "white",
            "ticks": ""
           }
          },
          "scene": {
           "xaxis": {
            "backgroundcolor": "#E5ECF6",
            "gridcolor": "white",
            "gridwidth": 2,
            "linecolor": "white",
            "showbackground": true,
            "ticks": "",
            "zerolinecolor": "white"
           },
           "yaxis": {
            "backgroundcolor": "#E5ECF6",
            "gridcolor": "white",
            "gridwidth": 2,
            "linecolor": "white",
            "showbackground": true,
            "ticks": "",
            "zerolinecolor": "white"
           },
           "zaxis": {
            "backgroundcolor": "#E5ECF6",
            "gridcolor": "white",
            "gridwidth": 2,
            "linecolor": "white",
            "showbackground": true,
            "ticks": "",
            "zerolinecolor": "white"
           }
          },
          "shapedefaults": {
           "line": {
            "color": "#2a3f5f"
           }
          },
          "ternary": {
           "aaxis": {
            "gridcolor": "white",
            "linecolor": "white",
            "ticks": ""
           },
           "baxis": {
            "gridcolor": "white",
            "linecolor": "white",
            "ticks": ""
           },
           "bgcolor": "#E5ECF6",
           "caxis": {
            "gridcolor": "white",
            "linecolor": "white",
            "ticks": ""
           }
          },
          "title": {
           "x": 0.05
          },
          "xaxis": {
           "automargin": true,
           "gridcolor": "white",
           "linecolor": "white",
           "ticks": "",
           "title": {
            "standoff": 15
           },
           "zerolinecolor": "white",
           "zerolinewidth": 2
          },
          "yaxis": {
           "automargin": true,
           "gridcolor": "white",
           "linecolor": "white",
           "ticks": "",
           "title": {
            "standoff": 15
           },
           "zerolinecolor": "white",
           "zerolinewidth": 2
          }
         }
        },
        "title": {
         "font": {
          "family": "Courier New",
          "size": 25
         },
         "text": "Topics clusters",
         "xanchor": "left"
        },
        "width": 800
       }
      }
     },
     "metadata": {},
     "output_type": "display_data"
    }
   ],
   "source": [
    "%matplotlib inline\n",
    "RANDOM_SEED = 0\n",
    "n_clusters = 5\n",
    "kmeans = KMeans(init=\"k-means++\", n_clusters=n_clusters, random_state=RANDOM_SEED)\n",
    "kmeans.fit(X_3d)\n",
    "test_cluster = kmeans.labels_\n",
    "centers = kmeans.cluster_centers_\n",
    "y_kmeans = kmeans.predict(X_3d)\n",
    "L = {x : f\"Cluster n. {x+1}\" for x in range(n_clusters)}\n",
    "dict_X = {'x' : X_3d[:,0], 'y' : X_3d[:,1], 'z' : X_3d[:,2]}\n",
    "\n",
    "plot_scatter_3D(dict_X, L, y_kmeans, kmeans.cluster_centers_, point_size = 5)"
   ]
  },
  {
   "cell_type": "code",
   "execution_count": 1,
   "metadata": {},
   "outputs": [
    {
     "ename": "NameError",
     "evalue": "name 'spam_text' is not defined",
     "output_type": "error",
     "traceback": [
      "\u001b[0;31m---------------------------------------------------------------------------\u001b[0m",
      "\u001b[0;31mNameError\u001b[0m                                 Traceback (most recent call last)",
      "Cell \u001b[0;32mIn[1], line 5\u001b[0m\n\u001b[1;32m      2\u001b[0m \u001b[38;5;28;01mimport\u001b[39;00m \u001b[38;5;21;01mgensim\u001b[39;00m\u001b[38;5;21;01m.\u001b[39;00m\u001b[38;5;21;01mcorpora\u001b[39;00m \u001b[38;5;28;01mas\u001b[39;00m \u001b[38;5;21;01mcorpora\u001b[39;00m\n\u001b[1;32m      3\u001b[0m \u001b[38;5;28;01mfrom\u001b[39;00m \u001b[38;5;21;01mgensim\u001b[39;00m\u001b[38;5;21;01m.\u001b[39;00m\u001b[38;5;21;01mmodels\u001b[39;00m \u001b[38;5;28;01mimport\u001b[39;00m LdaMulticore\n\u001b[0;32m----> 5\u001b[0m dictionary \u001b[38;5;241m=\u001b[39m corpora\u001b[38;5;241m.\u001b[39mDictionary(\u001b[43mspam_text\u001b[49m)\n",
      "\u001b[0;31mNameError\u001b[0m: name 'spam_text' is not defined"
     ]
    }
   ],
   "source": [
    "#lda for topic modeling\n",
    "import gensim.corpora as corpora\n",
    "from gensim.models import LdaMulticore\n",
    "\n",
    "dictionary = corpora.Dictionary(spam_text)"
   ]
  }
 ],
 "metadata": {
  "kernelspec": {
   "display_name": "venv",
   "language": "python",
   "name": "python3"
  },
  "language_info": {
   "codemirror_mode": {
    "name": "ipython",
    "version": 3
   },
   "file_extension": ".py",
   "mimetype": "text/x-python",
   "name": "python",
   "nbconvert_exporter": "python",
   "pygments_lexer": "ipython3",
   "version": "3.11.5"
  }
 },
 "nbformat": 4,
 "nbformat_minor": 2
}
